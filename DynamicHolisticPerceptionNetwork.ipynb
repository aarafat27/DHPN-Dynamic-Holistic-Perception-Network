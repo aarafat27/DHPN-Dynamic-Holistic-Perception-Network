{
  "nbformat": 4,
  "nbformat_minor": 0,
  "metadata": {
    "colab": {
      "provenance": [],
      "gpuType": "T4"
    },
    "kernelspec": {
      "name": "python3",
      "display_name": "Python 3"
    },
    "language_info": {
      "name": "python"
    },
    "accelerator": "GPU"
  },
  "cells": [
    {
      "cell_type": "code",
      "execution_count": 1,
      "metadata": {
        "colab": {
          "base_uri": "https://localhost:8080/",
          "height": 1000
        },
        "id": "ZjAUJZ97RmDO",
        "outputId": "02afef54-b246-4617-c811-502ba28804da"
      },
      "outputs": [
        {
          "output_type": "stream",
          "name": "stdout",
          "text": [
            "Using device: cuda\n",
            "Downloading https://www.cs.toronto.edu/~kriz/cifar-10-python.tar.gz to ./data/cifar-10-python.tar.gz\n"
          ]
        },
        {
          "output_type": "stream",
          "name": "stderr",
          "text": [
            "100%|██████████| 170M/170M [00:21<00:00, 7.85MB/s]\n"
          ]
        },
        {
          "output_type": "stream",
          "name": "stdout",
          "text": [
            "Extracting ./data/cifar-10-python.tar.gz to ./data\n",
            "Files already downloaded and verified\n",
            "Model initialized.\n",
            "DynamicHolisticPerceptionNetwork(\n",
            "  (initial_conv): Sequential(\n",
            "    (0): Conv2d(3, 128, kernel_size=(3, 3), stride=(1, 1), padding=(1, 1))\n",
            "    (1): BatchNorm2d(128, eps=1e-05, momentum=0.1, affine=True, track_running_stats=True)\n",
            "    (2): ReLU(inplace=True)\n",
            "    (3): MaxPool2d(kernel_size=2, stride=2, padding=0, dilation=1, ceil_mode=False)\n",
            "    (4): Conv2d(128, 128, kernel_size=(3, 3), stride=(1, 1), padding=(1, 1))\n",
            "    (5): BatchNorm2d(128, eps=1e-05, momentum=0.1, affine=True, track_running_stats=True)\n",
            "    (6): ReLU(inplace=True)\n",
            "    (7): MaxPool2d(kernel_size=2, stride=2, padding=0, dilation=1, ceil_mode=False)\n",
            "  )\n",
            "  (global_extractor): GlobalFeatureExtractor(\n",
            "    (layer): Sequential(\n",
            "      (0): ResidualBlock(\n",
            "        (conv1): Conv2d(128, 512, kernel_size=(3, 3), stride=(1, 1), padding=(1, 1), bias=False)\n",
            "        (bn1): BatchNorm2d(512, eps=1e-05, momentum=0.1, affine=True, track_running_stats=True)\n",
            "        (relu): ReLU(inplace=True)\n",
            "        (conv2): Conv2d(512, 512, kernel_size=(3, 3), stride=(1, 1), padding=(1, 1), bias=False)\n",
            "        (bn2): BatchNorm2d(512, eps=1e-05, momentum=0.1, affine=True, track_running_stats=True)\n",
            "        (se): SqueezeExcitation(\n",
            "          (fc1): Linear(in_features=512, out_features=32, bias=False)\n",
            "          (relu): ReLU(inplace=True)\n",
            "          (fc2): Linear(in_features=32, out_features=512, bias=False)\n",
            "          (sigmoid): Sigmoid()\n",
            "        )\n",
            "        (shortcut): Sequential(\n",
            "          (0): Conv2d(128, 512, kernel_size=(1, 1), stride=(1, 1), bias=False)\n",
            "          (1): BatchNorm2d(512, eps=1e-05, momentum=0.1, affine=True, track_running_stats=True)\n",
            "        )\n",
            "        (dropblock): DropBlock()\n",
            "      )\n",
            "      (1): ResidualBlock(\n",
            "        (conv1): Conv2d(512, 512, kernel_size=(3, 3), stride=(2, 2), padding=(1, 1), bias=False)\n",
            "        (bn1): BatchNorm2d(512, eps=1e-05, momentum=0.1, affine=True, track_running_stats=True)\n",
            "        (relu): ReLU(inplace=True)\n",
            "        (conv2): Conv2d(512, 512, kernel_size=(3, 3), stride=(1, 1), padding=(1, 1), bias=False)\n",
            "        (bn2): BatchNorm2d(512, eps=1e-05, momentum=0.1, affine=True, track_running_stats=True)\n",
            "        (se): SqueezeExcitation(\n",
            "          (fc1): Linear(in_features=512, out_features=32, bias=False)\n",
            "          (relu): ReLU(inplace=True)\n",
            "          (fc2): Linear(in_features=32, out_features=512, bias=False)\n",
            "          (sigmoid): Sigmoid()\n",
            "        )\n",
            "        (shortcut): Sequential(\n",
            "          (0): Conv2d(512, 512, kernel_size=(1, 1), stride=(2, 2), bias=False)\n",
            "          (1): BatchNorm2d(512, eps=1e-05, momentum=0.1, affine=True, track_running_stats=True)\n",
            "        )\n",
            "        (dropblock): DropBlock()\n",
            "      )\n",
            "      (2): ResidualBlock(\n",
            "        (conv1): Conv2d(512, 512, kernel_size=(3, 3), stride=(2, 2), padding=(1, 1), bias=False)\n",
            "        (bn1): BatchNorm2d(512, eps=1e-05, momentum=0.1, affine=True, track_running_stats=True)\n",
            "        (relu): ReLU(inplace=True)\n",
            "        (conv2): Conv2d(512, 512, kernel_size=(3, 3), stride=(1, 1), padding=(1, 1), bias=False)\n",
            "        (bn2): BatchNorm2d(512, eps=1e-05, momentum=0.1, affine=True, track_running_stats=True)\n",
            "        (se): SqueezeExcitation(\n",
            "          (fc1): Linear(in_features=512, out_features=32, bias=False)\n",
            "          (relu): ReLU(inplace=True)\n",
            "          (fc2): Linear(in_features=32, out_features=512, bias=False)\n",
            "          (sigmoid): Sigmoid()\n",
            "        )\n",
            "        (shortcut): Sequential(\n",
            "          (0): Conv2d(512, 512, kernel_size=(1, 1), stride=(2, 2), bias=False)\n",
            "          (1): BatchNorm2d(512, eps=1e-05, momentum=0.1, affine=True, track_running_stats=True)\n",
            "        )\n",
            "        (dropblock): DropBlock()\n",
            "      )\n",
            "      (3): ResidualBlock(\n",
            "        (conv1): Conv2d(512, 512, kernel_size=(3, 3), stride=(2, 2), padding=(1, 1), bias=False)\n",
            "        (bn1): BatchNorm2d(512, eps=1e-05, momentum=0.1, affine=True, track_running_stats=True)\n",
            "        (relu): ReLU(inplace=True)\n",
            "        (conv2): Conv2d(512, 512, kernel_size=(3, 3), stride=(1, 1), padding=(1, 1), bias=False)\n",
            "        (bn2): BatchNorm2d(512, eps=1e-05, momentum=0.1, affine=True, track_running_stats=True)\n",
            "        (se): SqueezeExcitation(\n",
            "          (fc1): Linear(in_features=512, out_features=32, bias=False)\n",
            "          (relu): ReLU(inplace=True)\n",
            "          (fc2): Linear(in_features=32, out_features=512, bias=False)\n",
            "          (sigmoid): Sigmoid()\n",
            "        )\n",
            "        (shortcut): Sequential(\n",
            "          (0): Conv2d(512, 512, kernel_size=(1, 1), stride=(2, 2), bias=False)\n",
            "          (1): BatchNorm2d(512, eps=1e-05, momentum=0.1, affine=True, track_running_stats=True)\n",
            "        )\n",
            "        (dropblock): DropBlock()\n",
            "      )\n",
            "      (4): ResidualBlock(\n",
            "        (conv1): Conv2d(512, 512, kernel_size=(3, 3), stride=(2, 2), padding=(1, 1), bias=False)\n",
            "        (bn1): BatchNorm2d(512, eps=1e-05, momentum=0.1, affine=True, track_running_stats=True)\n",
            "        (relu): ReLU(inplace=True)\n",
            "        (conv2): Conv2d(512, 512, kernel_size=(3, 3), stride=(1, 1), padding=(1, 1), bias=False)\n",
            "        (bn2): BatchNorm2d(512, eps=1e-05, momentum=0.1, affine=True, track_running_stats=True)\n",
            "        (se): SqueezeExcitation(\n",
            "          (fc1): Linear(in_features=512, out_features=32, bias=False)\n",
            "          (relu): ReLU(inplace=True)\n",
            "          (fc2): Linear(in_features=32, out_features=512, bias=False)\n",
            "          (sigmoid): Sigmoid()\n",
            "        )\n",
            "        (shortcut): Sequential(\n",
            "          (0): Conv2d(512, 512, kernel_size=(1, 1), stride=(2, 2), bias=False)\n",
            "          (1): BatchNorm2d(512, eps=1e-05, momentum=0.1, affine=True, track_running_stats=True)\n",
            "        )\n",
            "        (dropblock): DropBlock()\n",
            "      )\n",
            "      (5): ResidualBlock(\n",
            "        (conv1): Conv2d(512, 512, kernel_size=(3, 3), stride=(2, 2), padding=(1, 1), bias=False)\n",
            "        (bn1): BatchNorm2d(512, eps=1e-05, momentum=0.1, affine=True, track_running_stats=True)\n",
            "        (relu): ReLU(inplace=True)\n",
            "        (conv2): Conv2d(512, 512, kernel_size=(3, 3), stride=(1, 1), padding=(1, 1), bias=False)\n",
            "        (bn2): BatchNorm2d(512, eps=1e-05, momentum=0.1, affine=True, track_running_stats=True)\n",
            "        (se): SqueezeExcitation(\n",
            "          (fc1): Linear(in_features=512, out_features=32, bias=False)\n",
            "          (relu): ReLU(inplace=True)\n",
            "          (fc2): Linear(in_features=32, out_features=512, bias=False)\n",
            "          (sigmoid): Sigmoid()\n",
            "        )\n",
            "        (shortcut): Sequential(\n",
            "          (0): Conv2d(512, 512, kernel_size=(1, 1), stride=(2, 2), bias=False)\n",
            "          (1): BatchNorm2d(512, eps=1e-05, momentum=0.1, affine=True, track_running_stats=True)\n",
            "        )\n",
            "        (dropblock): DropBlock()\n",
            "      )\n",
            "    )\n",
            "    (pool): AdaptiveAvgPool2d(output_size=(1, 1))\n",
            "  )\n",
            "  (local_extractor): LocalFeatureExtractor(\n",
            "    (layer): Sequential(\n",
            "      (0): ResidualBlock(\n",
            "        (conv1): Conv2d(128, 512, kernel_size=(3, 3), stride=(1, 1), padding=(1, 1), bias=False)\n",
            "        (bn1): BatchNorm2d(512, eps=1e-05, momentum=0.1, affine=True, track_running_stats=True)\n",
            "        (relu): ReLU(inplace=True)\n",
            "        (conv2): Conv2d(512, 512, kernel_size=(3, 3), stride=(1, 1), padding=(1, 1), bias=False)\n",
            "        (bn2): BatchNorm2d(512, eps=1e-05, momentum=0.1, affine=True, track_running_stats=True)\n",
            "        (se): SqueezeExcitation(\n",
            "          (fc1): Linear(in_features=512, out_features=32, bias=False)\n",
            "          (relu): ReLU(inplace=True)\n",
            "          (fc2): Linear(in_features=32, out_features=512, bias=False)\n",
            "          (sigmoid): Sigmoid()\n",
            "        )\n",
            "        (shortcut): Sequential(\n",
            "          (0): Conv2d(128, 512, kernel_size=(1, 1), stride=(1, 1), bias=False)\n",
            "          (1): BatchNorm2d(512, eps=1e-05, momentum=0.1, affine=True, track_running_stats=True)\n",
            "        )\n",
            "        (dropblock): DropBlock()\n",
            "      )\n",
            "      (1): ResidualBlock(\n",
            "        (conv1): Conv2d(512, 512, kernel_size=(3, 3), stride=(2, 2), padding=(1, 1), bias=False)\n",
            "        (bn1): BatchNorm2d(512, eps=1e-05, momentum=0.1, affine=True, track_running_stats=True)\n",
            "        (relu): ReLU(inplace=True)\n",
            "        (conv2): Conv2d(512, 512, kernel_size=(3, 3), stride=(1, 1), padding=(1, 1), bias=False)\n",
            "        (bn2): BatchNorm2d(512, eps=1e-05, momentum=0.1, affine=True, track_running_stats=True)\n",
            "        (se): SqueezeExcitation(\n",
            "          (fc1): Linear(in_features=512, out_features=32, bias=False)\n",
            "          (relu): ReLU(inplace=True)\n",
            "          (fc2): Linear(in_features=32, out_features=512, bias=False)\n",
            "          (sigmoid): Sigmoid()\n",
            "        )\n",
            "        (shortcut): Sequential(\n",
            "          (0): Conv2d(512, 512, kernel_size=(1, 1), stride=(2, 2), bias=False)\n",
            "          (1): BatchNorm2d(512, eps=1e-05, momentum=0.1, affine=True, track_running_stats=True)\n",
            "        )\n",
            "        (dropblock): DropBlock()\n",
            "      )\n",
            "      (2): ResidualBlock(\n",
            "        (conv1): Conv2d(512, 512, kernel_size=(3, 3), stride=(2, 2), padding=(1, 1), bias=False)\n",
            "        (bn1): BatchNorm2d(512, eps=1e-05, momentum=0.1, affine=True, track_running_stats=True)\n",
            "        (relu): ReLU(inplace=True)\n",
            "        (conv2): Conv2d(512, 512, kernel_size=(3, 3), stride=(1, 1), padding=(1, 1), bias=False)\n",
            "        (bn2): BatchNorm2d(512, eps=1e-05, momentum=0.1, affine=True, track_running_stats=True)\n",
            "        (se): SqueezeExcitation(\n",
            "          (fc1): Linear(in_features=512, out_features=32, bias=False)\n",
            "          (relu): ReLU(inplace=True)\n",
            "          (fc2): Linear(in_features=32, out_features=512, bias=False)\n",
            "          (sigmoid): Sigmoid()\n",
            "        )\n",
            "        (shortcut): Sequential(\n",
            "          (0): Conv2d(512, 512, kernel_size=(1, 1), stride=(2, 2), bias=False)\n",
            "          (1): BatchNorm2d(512, eps=1e-05, momentum=0.1, affine=True, track_running_stats=True)\n",
            "        )\n",
            "        (dropblock): DropBlock()\n",
            "      )\n",
            "      (3): ResidualBlock(\n",
            "        (conv1): Conv2d(512, 512, kernel_size=(3, 3), stride=(2, 2), padding=(1, 1), bias=False)\n",
            "        (bn1): BatchNorm2d(512, eps=1e-05, momentum=0.1, affine=True, track_running_stats=True)\n",
            "        (relu): ReLU(inplace=True)\n",
            "        (conv2): Conv2d(512, 512, kernel_size=(3, 3), stride=(1, 1), padding=(1, 1), bias=False)\n",
            "        (bn2): BatchNorm2d(512, eps=1e-05, momentum=0.1, affine=True, track_running_stats=True)\n",
            "        (se): SqueezeExcitation(\n",
            "          (fc1): Linear(in_features=512, out_features=32, bias=False)\n",
            "          (relu): ReLU(inplace=True)\n",
            "          (fc2): Linear(in_features=32, out_features=512, bias=False)\n",
            "          (sigmoid): Sigmoid()\n",
            "        )\n",
            "        (shortcut): Sequential(\n",
            "          (0): Conv2d(512, 512, kernel_size=(1, 1), stride=(2, 2), bias=False)\n",
            "          (1): BatchNorm2d(512, eps=1e-05, momentum=0.1, affine=True, track_running_stats=True)\n",
            "        )\n",
            "        (dropblock): DropBlock()\n",
            "      )\n",
            "      (4): ResidualBlock(\n",
            "        (conv1): Conv2d(512, 512, kernel_size=(3, 3), stride=(2, 2), padding=(1, 1), bias=False)\n",
            "        (bn1): BatchNorm2d(512, eps=1e-05, momentum=0.1, affine=True, track_running_stats=True)\n",
            "        (relu): ReLU(inplace=True)\n",
            "        (conv2): Conv2d(512, 512, kernel_size=(3, 3), stride=(1, 1), padding=(1, 1), bias=False)\n",
            "        (bn2): BatchNorm2d(512, eps=1e-05, momentum=0.1, affine=True, track_running_stats=True)\n",
            "        (se): SqueezeExcitation(\n",
            "          (fc1): Linear(in_features=512, out_features=32, bias=False)\n",
            "          (relu): ReLU(inplace=True)\n",
            "          (fc2): Linear(in_features=32, out_features=512, bias=False)\n",
            "          (sigmoid): Sigmoid()\n",
            "        )\n",
            "        (shortcut): Sequential(\n",
            "          (0): Conv2d(512, 512, kernel_size=(1, 1), stride=(2, 2), bias=False)\n",
            "          (1): BatchNorm2d(512, eps=1e-05, momentum=0.1, affine=True, track_running_stats=True)\n",
            "        )\n",
            "        (dropblock): DropBlock()\n",
            "      )\n",
            "      (5): ResidualBlock(\n",
            "        (conv1): Conv2d(512, 512, kernel_size=(3, 3), stride=(2, 2), padding=(1, 1), bias=False)\n",
            "        (bn1): BatchNorm2d(512, eps=1e-05, momentum=0.1, affine=True, track_running_stats=True)\n",
            "        (relu): ReLU(inplace=True)\n",
            "        (conv2): Conv2d(512, 512, kernel_size=(3, 3), stride=(1, 1), padding=(1, 1), bias=False)\n",
            "        (bn2): BatchNorm2d(512, eps=1e-05, momentum=0.1, affine=True, track_running_stats=True)\n",
            "        (se): SqueezeExcitation(\n",
            "          (fc1): Linear(in_features=512, out_features=32, bias=False)\n",
            "          (relu): ReLU(inplace=True)\n",
            "          (fc2): Linear(in_features=32, out_features=512, bias=False)\n",
            "          (sigmoid): Sigmoid()\n",
            "        )\n",
            "        (shortcut): Sequential(\n",
            "          (0): Conv2d(512, 512, kernel_size=(1, 1), stride=(2, 2), bias=False)\n",
            "          (1): BatchNorm2d(512, eps=1e-05, momentum=0.1, affine=True, track_running_stats=True)\n",
            "        )\n",
            "        (dropblock): DropBlock()\n",
            "      )\n",
            "    )\n",
            "    (pool): AdaptiveAvgPool2d(output_size=(2, 2))\n",
            "  )\n",
            "  (adaptive_attention): EnhancedAdaptiveAttentionModule(\n",
            "    (query): Linear(in_features=1024, out_features=512, bias=True)\n",
            "    (key): Linear(in_features=1024, out_features=512, bias=True)\n",
            "    (value): Linear(in_features=1024, out_features=512, bias=True)\n",
            "    (multihead_attn): MultiheadAttention(\n",
            "      (out_proj): NonDynamicallyQuantizableLinear(in_features=512, out_features=512, bias=True)\n",
            "    )\n",
            "    (fc): Sequential(\n",
            "      (0): Linear(in_features=512, out_features=128, bias=True)\n",
            "      (1): ReLU(inplace=True)\n",
            "      (2): Linear(in_features=128, out_features=2, bias=True)\n",
            "      (3): Softmax(dim=1)\n",
            "    )\n",
            "  )\n",
            "  (fusion_fc): Sequential(\n",
            "    (0): Linear(in_features=1024, out_features=1024, bias=True)\n",
            "    (1): ReLU(inplace=True)\n",
            "    (2): Dropout(p=0.3, inplace=False)\n",
            "    (3): Linear(in_features=1024, out_features=512, bias=True)\n",
            "    (4): ReLU(inplace=True)\n",
            "    (5): Dropout(p=0.3, inplace=False)\n",
            "    (6): Linear(in_features=512, out_features=10, bias=True)\n",
            "  )\n",
            ")\n"
          ]
        },
        {
          "output_type": "stream",
          "name": "stderr",
          "text": [
            "<ipython-input-1-306ed63246eb>:505: FutureWarning: `torch.cuda.amp.GradScaler(args...)` is deprecated. Please use `torch.amp.GradScaler('cuda', args...)` instead.\n",
            "  scaler = GradScaler()\n",
            "<ipython-input-1-306ed63246eb>:524: FutureWarning: `torch.cuda.amp.autocast(args...)` is deprecated. Please use `torch.amp.autocast('cuda', args...)` instead.\n",
            "  with autocast():\n",
            "<ipython-input-1-306ed63246eb>:530: FutureWarning: `torch.cuda.amp.autocast(args...)` is deprecated. Please use `torch.amp.autocast('cuda', args...)` instead.\n",
            "  with autocast():\n"
          ]
        },
        {
          "output_type": "stream",
          "name": "stdout",
          "text": [
            "Epoch [1/200] - Loss: 2.2250 - Train Acc: 16.15% - Val Acc: 28.78% - Val Loss: 1.8744 - Time: 75.88s\n",
            "Best model saved with Val Acc: 28.78%\n"
          ]
        },
        {
          "output_type": "stream",
          "name": "stderr",
          "text": [
            "<ipython-input-1-306ed63246eb>:530: FutureWarning: `torch.cuda.amp.autocast(args...)` is deprecated. Please use `torch.amp.autocast('cuda', args...)` instead.\n",
            "  with autocast():\n",
            "<ipython-input-1-306ed63246eb>:524: FutureWarning: `torch.cuda.amp.autocast(args...)` is deprecated. Please use `torch.amp.autocast('cuda', args...)` instead.\n",
            "  with autocast():\n"
          ]
        },
        {
          "output_type": "stream",
          "name": "stdout",
          "text": [
            "Epoch [2/200] - Loss: 2.0699 - Train Acc: 26.97% - Val Acc: 45.05% - Val Loss: 1.5854 - Time: 73.93s\n",
            "Best model saved with Val Acc: 45.05%\n"
          ]
        },
        {
          "output_type": "stream",
          "name": "stderr",
          "text": [
            "<ipython-input-1-306ed63246eb>:524: FutureWarning: `torch.cuda.amp.autocast(args...)` is deprecated. Please use `torch.amp.autocast('cuda', args...)` instead.\n",
            "  with autocast():\n",
            "<ipython-input-1-306ed63246eb>:530: FutureWarning: `torch.cuda.amp.autocast(args...)` is deprecated. Please use `torch.amp.autocast('cuda', args...)` instead.\n",
            "  with autocast():\n"
          ]
        },
        {
          "output_type": "stream",
          "name": "stdout",
          "text": [
            "Epoch [3/200] - Loss: 1.9959 - Train Acc: 32.08% - Val Acc: 50.50% - Val Loss: 1.4184 - Time: 73.89s\n",
            "Best model saved with Val Acc: 50.50%\n"
          ]
        },
        {
          "output_type": "stream",
          "name": "stderr",
          "text": [
            "<ipython-input-1-306ed63246eb>:530: FutureWarning: `torch.cuda.amp.autocast(args...)` is deprecated. Please use `torch.amp.autocast('cuda', args...)` instead.\n",
            "  with autocast():\n",
            "<ipython-input-1-306ed63246eb>:524: FutureWarning: `torch.cuda.amp.autocast(args...)` is deprecated. Please use `torch.amp.autocast('cuda', args...)` instead.\n",
            "  with autocast():\n"
          ]
        },
        {
          "output_type": "stream",
          "name": "stdout",
          "text": [
            "Epoch [4/200] - Loss: 1.9456 - Train Acc: 35.34% - Val Acc: 57.27% - Val Loss: 1.2986 - Time: 74.15s\n",
            "Best model saved with Val Acc: 57.27%\n"
          ]
        },
        {
          "output_type": "stream",
          "name": "stderr",
          "text": [
            "<ipython-input-1-306ed63246eb>:530: FutureWarning: `torch.cuda.amp.autocast(args...)` is deprecated. Please use `torch.amp.autocast('cuda', args...)` instead.\n",
            "  with autocast():\n",
            "<ipython-input-1-306ed63246eb>:524: FutureWarning: `torch.cuda.amp.autocast(args...)` is deprecated. Please use `torch.amp.autocast('cuda', args...)` instead.\n",
            "  with autocast():\n"
          ]
        },
        {
          "output_type": "stream",
          "name": "stdout",
          "text": [
            "Epoch [5/200] - Loss: 1.9280 - Train Acc: 36.61% - Val Acc: 60.61% - Val Loss: 1.2708 - Time: 73.93s\n",
            "Best model saved with Val Acc: 60.61%\n"
          ]
        },
        {
          "output_type": "stream",
          "name": "stderr",
          "text": [
            "<ipython-input-1-306ed63246eb>:530: FutureWarning: `torch.cuda.amp.autocast(args...)` is deprecated. Please use `torch.amp.autocast('cuda', args...)` instead.\n",
            "  with autocast():\n",
            "<ipython-input-1-306ed63246eb>:524: FutureWarning: `torch.cuda.amp.autocast(args...)` is deprecated. Please use `torch.amp.autocast('cuda', args...)` instead.\n",
            "  with autocast():\n"
          ]
        },
        {
          "output_type": "stream",
          "name": "stdout",
          "text": [
            "Epoch [6/200] - Loss: 1.8928 - Train Acc: 39.00% - Val Acc: 62.50% - Val Loss: 1.1867 - Time: 74.00s\n",
            "Best model saved with Val Acc: 62.50%\n"
          ]
        },
        {
          "output_type": "stream",
          "name": "stderr",
          "text": [
            "<ipython-input-1-306ed63246eb>:530: FutureWarning: `torch.cuda.amp.autocast(args...)` is deprecated. Please use `torch.amp.autocast('cuda', args...)` instead.\n",
            "  with autocast():\n",
            "<ipython-input-1-306ed63246eb>:524: FutureWarning: `torch.cuda.amp.autocast(args...)` is deprecated. Please use `torch.amp.autocast('cuda', args...)` instead.\n",
            "  with autocast():\n"
          ]
        },
        {
          "output_type": "stream",
          "name": "stdout",
          "text": [
            "Epoch [7/200] - Loss: 1.8720 - Train Acc: 40.18% - Val Acc: 64.53% - Val Loss: 1.1038 - Time: 73.93s\n",
            "Best model saved with Val Acc: 64.53%\n"
          ]
        },
        {
          "output_type": "stream",
          "name": "stderr",
          "text": [
            "<ipython-input-1-306ed63246eb>:530: FutureWarning: `torch.cuda.amp.autocast(args...)` is deprecated. Please use `torch.amp.autocast('cuda', args...)` instead.\n",
            "  with autocast():\n",
            "<ipython-input-1-306ed63246eb>:524: FutureWarning: `torch.cuda.amp.autocast(args...)` is deprecated. Please use `torch.amp.autocast('cuda', args...)` instead.\n",
            "  with autocast():\n"
          ]
        },
        {
          "output_type": "stream",
          "name": "stdout",
          "text": [
            "Epoch [8/200] - Loss: 1.8300 - Train Acc: 42.78% - Val Acc: 66.42% - Val Loss: 1.0807 - Time: 74.23s\n",
            "Best model saved with Val Acc: 66.42%\n"
          ]
        },
        {
          "output_type": "stream",
          "name": "stderr",
          "text": [
            "<ipython-input-1-306ed63246eb>:530: FutureWarning: `torch.cuda.amp.autocast(args...)` is deprecated. Please use `torch.amp.autocast('cuda', args...)` instead.\n",
            "  with autocast():\n",
            "<ipython-input-1-306ed63246eb>:524: FutureWarning: `torch.cuda.amp.autocast(args...)` is deprecated. Please use `torch.amp.autocast('cuda', args...)` instead.\n",
            "  with autocast():\n"
          ]
        },
        {
          "output_type": "stream",
          "name": "stdout",
          "text": [
            "Epoch [9/200] - Loss: 1.8107 - Train Acc: 43.88% - Val Acc: 68.59% - Val Loss: 1.0272 - Time: 73.49s\n",
            "Best model saved with Val Acc: 68.59%\n"
          ]
        },
        {
          "output_type": "stream",
          "name": "stderr",
          "text": [
            "<ipython-input-1-306ed63246eb>:530: FutureWarning: `torch.cuda.amp.autocast(args...)` is deprecated. Please use `torch.amp.autocast('cuda', args...)` instead.\n",
            "  with autocast():\n",
            "<ipython-input-1-306ed63246eb>:524: FutureWarning: `torch.cuda.amp.autocast(args...)` is deprecated. Please use `torch.amp.autocast('cuda', args...)` instead.\n",
            "  with autocast():\n"
          ]
        },
        {
          "output_type": "stream",
          "name": "stdout",
          "text": [
            "Epoch [10/200] - Loss: 1.7971 - Train Acc: 44.64% - Val Acc: 68.71% - Val Loss: 1.0162 - Time: 73.27s\n",
            "Checkpoint saved at Epoch 10\n",
            "Best model saved with Val Acc: 68.71%\n"
          ]
        },
        {
          "output_type": "stream",
          "name": "stderr",
          "text": [
            "<ipython-input-1-306ed63246eb>:524: FutureWarning: `torch.cuda.amp.autocast(args...)` is deprecated. Please use `torch.amp.autocast('cuda', args...)` instead.\n",
            "  with autocast():\n",
            "<ipython-input-1-306ed63246eb>:530: FutureWarning: `torch.cuda.amp.autocast(args...)` is deprecated. Please use `torch.amp.autocast('cuda', args...)` instead.\n",
            "  with autocast():\n"
          ]
        },
        {
          "output_type": "stream",
          "name": "stdout",
          "text": [
            "Epoch [11/200] - Loss: 1.7861 - Train Acc: 45.39% - Val Acc: 71.71% - Val Loss: 0.9724 - Time: 71.91s\n",
            "Best model saved with Val Acc: 71.71%\n"
          ]
        },
        {
          "output_type": "stream",
          "name": "stderr",
          "text": [
            "<ipython-input-1-306ed63246eb>:530: FutureWarning: `torch.cuda.amp.autocast(args...)` is deprecated. Please use `torch.amp.autocast('cuda', args...)` instead.\n",
            "  with autocast():\n",
            "<ipython-input-1-306ed63246eb>:524: FutureWarning: `torch.cuda.amp.autocast(args...)` is deprecated. Please use `torch.amp.autocast('cuda', args...)` instead.\n",
            "  with autocast():\n"
          ]
        },
        {
          "output_type": "stream",
          "name": "stdout",
          "text": [
            "Epoch [12/200] - Loss: 1.7853 - Train Acc: 45.54% - Val Acc: 71.27% - Val Loss: 0.9533 - Time: 72.94s\n"
          ]
        },
        {
          "output_type": "stream",
          "name": "stderr",
          "text": [
            "<ipython-input-1-306ed63246eb>:524: FutureWarning: `torch.cuda.amp.autocast(args...)` is deprecated. Please use `torch.amp.autocast('cuda', args...)` instead.\n",
            "  with autocast():\n",
            "<ipython-input-1-306ed63246eb>:530: FutureWarning: `torch.cuda.amp.autocast(args...)` is deprecated. Please use `torch.amp.autocast('cuda', args...)` instead.\n",
            "  with autocast():\n"
          ]
        },
        {
          "output_type": "stream",
          "name": "stdout",
          "text": [
            "Epoch [13/200] - Loss: 1.7633 - Train Acc: 46.70% - Val Acc: 70.55% - Val Loss: 0.9777 - Time: 73.22s\n"
          ]
        },
        {
          "output_type": "stream",
          "name": "stderr",
          "text": [
            "<ipython-input-1-306ed63246eb>:530: FutureWarning: `torch.cuda.amp.autocast(args...)` is deprecated. Please use `torch.amp.autocast('cuda', args...)` instead.\n",
            "  with autocast():\n",
            "<ipython-input-1-306ed63246eb>:524: FutureWarning: `torch.cuda.amp.autocast(args...)` is deprecated. Please use `torch.amp.autocast('cuda', args...)` instead.\n",
            "  with autocast():\n"
          ]
        },
        {
          "output_type": "stream",
          "name": "stdout",
          "text": [
            "Epoch [14/200] - Loss: 1.7815 - Train Acc: 45.77% - Val Acc: 71.25% - Val Loss: 0.9916 - Time: 72.87s\n"
          ]
        },
        {
          "output_type": "stream",
          "name": "stderr",
          "text": [
            "<ipython-input-1-306ed63246eb>:524: FutureWarning: `torch.cuda.amp.autocast(args...)` is deprecated. Please use `torch.amp.autocast('cuda', args...)` instead.\n",
            "  with autocast():\n",
            "<ipython-input-1-306ed63246eb>:530: FutureWarning: `torch.cuda.amp.autocast(args...)` is deprecated. Please use `torch.amp.autocast('cuda', args...)` instead.\n",
            "  with autocast():\n"
          ]
        },
        {
          "output_type": "stream",
          "name": "stdout",
          "text": [
            "Epoch [15/200] - Loss: 1.7546 - Train Acc: 47.27% - Val Acc: 73.26% - Val Loss: 0.9847 - Time: 73.17s\n",
            "Best model saved with Val Acc: 73.26%\n"
          ]
        },
        {
          "output_type": "stream",
          "name": "stderr",
          "text": [
            "<ipython-input-1-306ed63246eb>:524: FutureWarning: `torch.cuda.amp.autocast(args...)` is deprecated. Please use `torch.amp.autocast('cuda', args...)` instead.\n",
            "  with autocast():\n",
            "<ipython-input-1-306ed63246eb>:530: FutureWarning: `torch.cuda.amp.autocast(args...)` is deprecated. Please use `torch.amp.autocast('cuda', args...)` instead.\n",
            "  with autocast():\n"
          ]
        },
        {
          "output_type": "stream",
          "name": "stdout",
          "text": [
            "Epoch [16/200] - Loss: 1.7496 - Train Acc: 47.93% - Val Acc: 74.62% - Val Loss: 0.9665 - Time: 73.16s\n",
            "Best model saved with Val Acc: 74.62%\n"
          ]
        },
        {
          "output_type": "stream",
          "name": "stderr",
          "text": [
            "<ipython-input-1-306ed63246eb>:530: FutureWarning: `torch.cuda.amp.autocast(args...)` is deprecated. Please use `torch.amp.autocast('cuda', args...)` instead.\n",
            "  with autocast():\n",
            "<ipython-input-1-306ed63246eb>:524: FutureWarning: `torch.cuda.amp.autocast(args...)` is deprecated. Please use `torch.amp.autocast('cuda', args...)` instead.\n",
            "  with autocast():\n"
          ]
        },
        {
          "output_type": "stream",
          "name": "stdout",
          "text": [
            "Epoch [17/200] - Loss: 1.7316 - Train Acc: 48.47% - Val Acc: 72.12% - Val Loss: 1.0305 - Time: 72.86s\n"
          ]
        },
        {
          "output_type": "stream",
          "name": "stderr",
          "text": [
            "<ipython-input-1-306ed63246eb>:524: FutureWarning: `torch.cuda.amp.autocast(args...)` is deprecated. Please use `torch.amp.autocast('cuda', args...)` instead.\n",
            "  with autocast():\n",
            "<ipython-input-1-306ed63246eb>:530: FutureWarning: `torch.cuda.amp.autocast(args...)` is deprecated. Please use `torch.amp.autocast('cuda', args...)` instead.\n",
            "  with autocast():\n"
          ]
        },
        {
          "output_type": "stream",
          "name": "stdout",
          "text": [
            "Epoch [18/200] - Loss: 1.7558 - Train Acc: 47.38% - Val Acc: 73.11% - Val Loss: 0.9936 - Time: 72.89s\n"
          ]
        },
        {
          "output_type": "stream",
          "name": "stderr",
          "text": [
            "<ipython-input-1-306ed63246eb>:530: FutureWarning: `torch.cuda.amp.autocast(args...)` is deprecated. Please use `torch.amp.autocast('cuda', args...)` instead.\n",
            "  with autocast():\n",
            "<ipython-input-1-306ed63246eb>:524: FutureWarning: `torch.cuda.amp.autocast(args...)` is deprecated. Please use `torch.amp.autocast('cuda', args...)` instead.\n",
            "  with autocast():\n"
          ]
        },
        {
          "output_type": "stream",
          "name": "stdout",
          "text": [
            "Epoch [19/200] - Loss: 1.7415 - Train Acc: 48.06% - Val Acc: 73.71% - Val Loss: 0.9245 - Time: 72.66s\n"
          ]
        },
        {
          "output_type": "stream",
          "name": "stderr",
          "text": [
            "<ipython-input-1-306ed63246eb>:530: FutureWarning: `torch.cuda.amp.autocast(args...)` is deprecated. Please use `torch.amp.autocast('cuda', args...)` instead.\n",
            "  with autocast():\n",
            "<ipython-input-1-306ed63246eb>:524: FutureWarning: `torch.cuda.amp.autocast(args...)` is deprecated. Please use `torch.amp.autocast('cuda', args...)` instead.\n",
            "  with autocast():\n"
          ]
        },
        {
          "output_type": "stream",
          "name": "stdout",
          "text": [
            "Epoch [20/200] - Loss: 1.7227 - Train Acc: 48.95% - Val Acc: 75.92% - Val Loss: 0.9209 - Time: 72.72s\n",
            "Checkpoint saved at Epoch 20\n",
            "Best model saved with Val Acc: 75.92%\n"
          ]
        },
        {
          "output_type": "stream",
          "name": "stderr",
          "text": [
            "<ipython-input-1-306ed63246eb>:524: FutureWarning: `torch.cuda.amp.autocast(args...)` is deprecated. Please use `torch.amp.autocast('cuda', args...)` instead.\n",
            "  with autocast():\n",
            "<ipython-input-1-306ed63246eb>:530: FutureWarning: `torch.cuda.amp.autocast(args...)` is deprecated. Please use `torch.amp.autocast('cuda', args...)` instead.\n",
            "  with autocast():\n"
          ]
        },
        {
          "output_type": "stream",
          "name": "stdout",
          "text": [
            "Epoch [21/200] - Loss: 1.7301 - Train Acc: 48.81% - Val Acc: 76.04% - Val Loss: 0.9913 - Time: 72.28s\n",
            "Best model saved with Val Acc: 76.04%\n"
          ]
        },
        {
          "output_type": "stream",
          "name": "stderr",
          "text": [
            "<ipython-input-1-306ed63246eb>:524: FutureWarning: `torch.cuda.amp.autocast(args...)` is deprecated. Please use `torch.amp.autocast('cuda', args...)` instead.\n",
            "  with autocast():\n",
            "<ipython-input-1-306ed63246eb>:530: FutureWarning: `torch.cuda.amp.autocast(args...)` is deprecated. Please use `torch.amp.autocast('cuda', args...)` instead.\n",
            "  with autocast():\n"
          ]
        },
        {
          "output_type": "stream",
          "name": "stdout",
          "text": [
            "Epoch [22/200] - Loss: 1.7227 - Train Acc: 49.26% - Val Acc: 73.51% - Val Loss: 0.9308 - Time: 72.04s\n"
          ]
        },
        {
          "output_type": "stream",
          "name": "stderr",
          "text": [
            "<ipython-input-1-306ed63246eb>:530: FutureWarning: `torch.cuda.amp.autocast(args...)` is deprecated. Please use `torch.amp.autocast('cuda', args...)` instead.\n",
            "  with autocast():\n",
            "<ipython-input-1-306ed63246eb>:524: FutureWarning: `torch.cuda.amp.autocast(args...)` is deprecated. Please use `torch.amp.autocast('cuda', args...)` instead.\n",
            "  with autocast():\n"
          ]
        },
        {
          "output_type": "stream",
          "name": "stdout",
          "text": [
            "Epoch [23/200] - Loss: 1.7189 - Train Acc: 49.51% - Val Acc: 77.10% - Val Loss: 0.8667 - Time: 73.21s\n",
            "Best model saved with Val Acc: 77.10%\n"
          ]
        },
        {
          "output_type": "stream",
          "name": "stderr",
          "text": [
            "<ipython-input-1-306ed63246eb>:524: FutureWarning: `torch.cuda.amp.autocast(args...)` is deprecated. Please use `torch.amp.autocast('cuda', args...)` instead.\n",
            "  with autocast():\n",
            "<ipython-input-1-306ed63246eb>:530: FutureWarning: `torch.cuda.amp.autocast(args...)` is deprecated. Please use `torch.amp.autocast('cuda', args...)` instead.\n",
            "  with autocast():\n"
          ]
        },
        {
          "output_type": "stream",
          "name": "stdout",
          "text": [
            "Epoch [24/200] - Loss: 1.6844 - Train Acc: 51.18% - Val Acc: 78.30% - Val Loss: 0.8000 - Time: 73.79s\n",
            "Best model saved with Val Acc: 78.30%\n"
          ]
        },
        {
          "output_type": "stream",
          "name": "stderr",
          "text": [
            "<ipython-input-1-306ed63246eb>:524: FutureWarning: `torch.cuda.amp.autocast(args...)` is deprecated. Please use `torch.amp.autocast('cuda', args...)` instead.\n",
            "  with autocast():\n",
            "<ipython-input-1-306ed63246eb>:530: FutureWarning: `torch.cuda.amp.autocast(args...)` is deprecated. Please use `torch.amp.autocast('cuda', args...)` instead.\n",
            "  with autocast():\n"
          ]
        },
        {
          "output_type": "stream",
          "name": "stdout",
          "text": [
            "Epoch [25/200] - Loss: 1.7158 - Train Acc: 49.61% - Val Acc: 73.12% - Val Loss: 0.9646 - Time: 73.39s\n"
          ]
        },
        {
          "output_type": "stream",
          "name": "stderr",
          "text": [
            "<ipython-input-1-306ed63246eb>:524: FutureWarning: `torch.cuda.amp.autocast(args...)` is deprecated. Please use `torch.amp.autocast('cuda', args...)` instead.\n",
            "  with autocast():\n",
            "<ipython-input-1-306ed63246eb>:530: FutureWarning: `torch.cuda.amp.autocast(args...)` is deprecated. Please use `torch.amp.autocast('cuda', args...)` instead.\n",
            "  with autocast():\n"
          ]
        },
        {
          "output_type": "stream",
          "name": "stdout",
          "text": [
            "Epoch [26/200] - Loss: 1.7074 - Train Acc: 50.23% - Val Acc: 76.64% - Val Loss: 0.9010 - Time: 74.81s\n"
          ]
        },
        {
          "output_type": "stream",
          "name": "stderr",
          "text": [
            "<ipython-input-1-306ed63246eb>:530: FutureWarning: `torch.cuda.amp.autocast(args...)` is deprecated. Please use `torch.amp.autocast('cuda', args...)` instead.\n",
            "  with autocast():\n",
            "<ipython-input-1-306ed63246eb>:524: FutureWarning: `torch.cuda.amp.autocast(args...)` is deprecated. Please use `torch.amp.autocast('cuda', args...)` instead.\n",
            "  with autocast():\n"
          ]
        },
        {
          "output_type": "stream",
          "name": "stdout",
          "text": [
            "Epoch [27/200] - Loss: 1.7048 - Train Acc: 49.98% - Val Acc: 74.81% - Val Loss: 1.0025 - Time: 76.10s\n"
          ]
        },
        {
          "output_type": "stream",
          "name": "stderr",
          "text": [
            "<ipython-input-1-306ed63246eb>:530: FutureWarning: `torch.cuda.amp.autocast(args...)` is deprecated. Please use `torch.amp.autocast('cuda', args...)` instead.\n",
            "  with autocast():\n",
            "<ipython-input-1-306ed63246eb>:524: FutureWarning: `torch.cuda.amp.autocast(args...)` is deprecated. Please use `torch.amp.autocast('cuda', args...)` instead.\n",
            "  with autocast():\n"
          ]
        },
        {
          "output_type": "stream",
          "name": "stdout",
          "text": [
            "Epoch [28/200] - Loss: 1.7014 - Train Acc: 50.31% - Val Acc: 75.79% - Val Loss: 0.9226 - Time: 74.82s\n"
          ]
        },
        {
          "output_type": "stream",
          "name": "stderr",
          "text": [
            "<ipython-input-1-306ed63246eb>:530: FutureWarning: `torch.cuda.amp.autocast(args...)` is deprecated. Please use `torch.amp.autocast('cuda', args...)` instead.\n",
            "  with autocast():\n",
            "<ipython-input-1-306ed63246eb>:524: FutureWarning: `torch.cuda.amp.autocast(args...)` is deprecated. Please use `torch.amp.autocast('cuda', args...)` instead.\n",
            "  with autocast():\n"
          ]
        },
        {
          "output_type": "stream",
          "name": "stdout",
          "text": [
            "Epoch [29/200] - Loss: 1.6959 - Train Acc: 50.80% - Val Acc: 77.71% - Val Loss: 0.8522 - Time: 74.09s\n"
          ]
        },
        {
          "output_type": "stream",
          "name": "stderr",
          "text": [
            "<ipython-input-1-306ed63246eb>:530: FutureWarning: `torch.cuda.amp.autocast(args...)` is deprecated. Please use `torch.amp.autocast('cuda', args...)` instead.\n",
            "  with autocast():\n",
            "<ipython-input-1-306ed63246eb>:524: FutureWarning: `torch.cuda.amp.autocast(args...)` is deprecated. Please use `torch.amp.autocast('cuda', args...)` instead.\n",
            "  with autocast():\n"
          ]
        },
        {
          "output_type": "stream",
          "name": "stdout",
          "text": [
            "Epoch [30/200] - Loss: 1.6808 - Train Acc: 51.38% - Val Acc: 76.92% - Val Loss: 0.9017 - Time: 74.35s\n",
            "Checkpoint saved at Epoch 30\n"
          ]
        },
        {
          "output_type": "stream",
          "name": "stderr",
          "text": [
            "<ipython-input-1-306ed63246eb>:530: FutureWarning: `torch.cuda.amp.autocast(args...)` is deprecated. Please use `torch.amp.autocast('cuda', args...)` instead.\n",
            "  with autocast():\n",
            "<ipython-input-1-306ed63246eb>:524: FutureWarning: `torch.cuda.amp.autocast(args...)` is deprecated. Please use `torch.amp.autocast('cuda', args...)` instead.\n",
            "  with autocast():\n"
          ]
        },
        {
          "output_type": "stream",
          "name": "stdout",
          "text": [
            "Epoch [31/200] - Loss: 1.6729 - Train Acc: 51.81% - Val Acc: 77.86% - Val Loss: 0.8747 - Time: 73.09s\n"
          ]
        },
        {
          "output_type": "stream",
          "name": "stderr",
          "text": [
            "<ipython-input-1-306ed63246eb>:530: FutureWarning: `torch.cuda.amp.autocast(args...)` is deprecated. Please use `torch.amp.autocast('cuda', args...)` instead.\n",
            "  with autocast():\n",
            "<ipython-input-1-306ed63246eb>:524: FutureWarning: `torch.cuda.amp.autocast(args...)` is deprecated. Please use `torch.amp.autocast('cuda', args...)` instead.\n",
            "  with autocast():\n"
          ]
        },
        {
          "output_type": "stream",
          "name": "stdout",
          "text": [
            "Epoch [32/200] - Loss: 1.7087 - Train Acc: 49.97% - Val Acc: 77.79% - Val Loss: 0.8999 - Time: 72.31s\n"
          ]
        },
        {
          "output_type": "stream",
          "name": "stderr",
          "text": [
            "<ipython-input-1-306ed63246eb>:530: FutureWarning: `torch.cuda.amp.autocast(args...)` is deprecated. Please use `torch.amp.autocast('cuda', args...)` instead.\n",
            "  with autocast():\n",
            "<ipython-input-1-306ed63246eb>:524: FutureWarning: `torch.cuda.amp.autocast(args...)` is deprecated. Please use `torch.amp.autocast('cuda', args...)` instead.\n",
            "  with autocast():\n"
          ]
        },
        {
          "output_type": "stream",
          "name": "stdout",
          "text": [
            "Epoch [33/200] - Loss: 1.6814 - Train Acc: 51.22% - Val Acc: 73.48% - Val Loss: 0.9887 - Time: 72.55s\n"
          ]
        },
        {
          "output_type": "stream",
          "name": "stderr",
          "text": [
            "<ipython-input-1-306ed63246eb>:530: FutureWarning: `torch.cuda.amp.autocast(args...)` is deprecated. Please use `torch.amp.autocast('cuda', args...)` instead.\n",
            "  with autocast():\n",
            "<ipython-input-1-306ed63246eb>:524: FutureWarning: `torch.cuda.amp.autocast(args...)` is deprecated. Please use `torch.amp.autocast('cuda', args...)` instead.\n",
            "  with autocast():\n"
          ]
        },
        {
          "output_type": "stream",
          "name": "stdout",
          "text": [
            "Epoch [34/200] - Loss: 1.7133 - Train Acc: 49.91% - Val Acc: 73.33% - Val Loss: 0.9535 - Time: 74.17s\n"
          ]
        },
        {
          "output_type": "stream",
          "name": "stderr",
          "text": [
            "<ipython-input-1-306ed63246eb>:524: FutureWarning: `torch.cuda.amp.autocast(args...)` is deprecated. Please use `torch.amp.autocast('cuda', args...)` instead.\n",
            "  with autocast():\n",
            "<ipython-input-1-306ed63246eb>:530: FutureWarning: `torch.cuda.amp.autocast(args...)` is deprecated. Please use `torch.amp.autocast('cuda', args...)` instead.\n",
            "  with autocast():\n"
          ]
        },
        {
          "output_type": "stream",
          "name": "stdout",
          "text": [
            "Epoch [35/200] - Loss: 1.6859 - Train Acc: 51.06% - Val Acc: 75.26% - Val Loss: 0.9132 - Time: 73.77s\n"
          ]
        },
        {
          "output_type": "stream",
          "name": "stderr",
          "text": [
            "<ipython-input-1-306ed63246eb>:524: FutureWarning: `torch.cuda.amp.autocast(args...)` is deprecated. Please use `torch.amp.autocast('cuda', args...)` instead.\n",
            "  with autocast():\n",
            "<ipython-input-1-306ed63246eb>:530: FutureWarning: `torch.cuda.amp.autocast(args...)` is deprecated. Please use `torch.amp.autocast('cuda', args...)` instead.\n",
            "  with autocast():\n"
          ]
        },
        {
          "output_type": "stream",
          "name": "stdout",
          "text": [
            "Epoch [36/200] - Loss: 1.6853 - Train Acc: 51.15% - Val Acc: 76.78% - Val Loss: 0.9268 - Time: 76.26s\n"
          ]
        },
        {
          "output_type": "stream",
          "name": "stderr",
          "text": [
            "<ipython-input-1-306ed63246eb>:524: FutureWarning: `torch.cuda.amp.autocast(args...)` is deprecated. Please use `torch.amp.autocast('cuda', args...)` instead.\n",
            "  with autocast():\n",
            "<ipython-input-1-306ed63246eb>:530: FutureWarning: `torch.cuda.amp.autocast(args...)` is deprecated. Please use `torch.amp.autocast('cuda', args...)` instead.\n",
            "  with autocast():\n"
          ]
        },
        {
          "output_type": "stream",
          "name": "stdout",
          "text": [
            "Epoch [37/200] - Loss: 1.6922 - Train Acc: 50.80% - Val Acc: 77.56% - Val Loss: 0.8961 - Time: 74.59s\n"
          ]
        },
        {
          "output_type": "stream",
          "name": "stderr",
          "text": [
            "<ipython-input-1-306ed63246eb>:524: FutureWarning: `torch.cuda.amp.autocast(args...)` is deprecated. Please use `torch.amp.autocast('cuda', args...)` instead.\n",
            "  with autocast():\n",
            "<ipython-input-1-306ed63246eb>:530: FutureWarning: `torch.cuda.amp.autocast(args...)` is deprecated. Please use `torch.amp.autocast('cuda', args...)` instead.\n",
            "  with autocast():\n"
          ]
        },
        {
          "output_type": "stream",
          "name": "stdout",
          "text": [
            "Epoch [38/200] - Loss: 1.6911 - Train Acc: 51.19% - Val Acc: 74.86% - Val Loss: 0.9183 - Time: 74.51s\n"
          ]
        },
        {
          "output_type": "stream",
          "name": "stderr",
          "text": [
            "<ipython-input-1-306ed63246eb>:524: FutureWarning: `torch.cuda.amp.autocast(args...)` is deprecated. Please use `torch.amp.autocast('cuda', args...)` instead.\n",
            "  with autocast():\n",
            "<ipython-input-1-306ed63246eb>:530: FutureWarning: `torch.cuda.amp.autocast(args...)` is deprecated. Please use `torch.amp.autocast('cuda', args...)` instead.\n",
            "  with autocast():\n"
          ]
        },
        {
          "output_type": "stream",
          "name": "stdout",
          "text": [
            "Epoch [39/200] - Loss: 1.6908 - Train Acc: 51.02% - Val Acc: 75.07% - Val Loss: 0.9431 - Time: 74.39s\n"
          ]
        },
        {
          "output_type": "stream",
          "name": "stderr",
          "text": [
            "<ipython-input-1-306ed63246eb>:530: FutureWarning: `torch.cuda.amp.autocast(args...)` is deprecated. Please use `torch.amp.autocast('cuda', args...)` instead.\n",
            "  with autocast():\n",
            "<ipython-input-1-306ed63246eb>:524: FutureWarning: `torch.cuda.amp.autocast(args...)` is deprecated. Please use `torch.amp.autocast('cuda', args...)` instead.\n",
            "  with autocast():\n"
          ]
        },
        {
          "output_type": "stream",
          "name": "stdout",
          "text": [
            "Epoch [40/200] - Loss: 1.6762 - Train Acc: 51.88% - Val Acc: 73.41% - Val Loss: 0.9648 - Time: 74.67s\n",
            "Checkpoint saved at Epoch 40\n"
          ]
        },
        {
          "output_type": "stream",
          "name": "stderr",
          "text": [
            "<ipython-input-1-306ed63246eb>:524: FutureWarning: `torch.cuda.amp.autocast(args...)` is deprecated. Please use `torch.amp.autocast('cuda', args...)` instead.\n",
            "  with autocast():\n",
            "<ipython-input-1-306ed63246eb>:530: FutureWarning: `torch.cuda.amp.autocast(args...)` is deprecated. Please use `torch.amp.autocast('cuda', args...)` instead.\n",
            "  with autocast():\n"
          ]
        },
        {
          "output_type": "stream",
          "name": "stdout",
          "text": [
            "Epoch [41/200] - Loss: 1.6754 - Train Acc: 51.94% - Val Acc: 76.70% - Val Loss: 0.8605 - Time: 73.54s\n"
          ]
        },
        {
          "output_type": "stream",
          "name": "stderr",
          "text": [
            "<ipython-input-1-306ed63246eb>:530: FutureWarning: `torch.cuda.amp.autocast(args...)` is deprecated. Please use `torch.amp.autocast('cuda', args...)` instead.\n",
            "  with autocast():\n",
            "<ipython-input-1-306ed63246eb>:524: FutureWarning: `torch.cuda.amp.autocast(args...)` is deprecated. Please use `torch.amp.autocast('cuda', args...)` instead.\n",
            "  with autocast():\n"
          ]
        },
        {
          "output_type": "stream",
          "name": "stdout",
          "text": [
            "Epoch [42/200] - Loss: 1.6914 - Train Acc: 51.45% - Val Acc: 75.91% - Val Loss: 0.9161 - Time: 73.67s\n"
          ]
        },
        {
          "output_type": "stream",
          "name": "stderr",
          "text": [
            "<ipython-input-1-306ed63246eb>:524: FutureWarning: `torch.cuda.amp.autocast(args...)` is deprecated. Please use `torch.amp.autocast('cuda', args...)` instead.\n",
            "  with autocast():\n",
            "<ipython-input-1-306ed63246eb>:530: FutureWarning: `torch.cuda.amp.autocast(args...)` is deprecated. Please use `torch.amp.autocast('cuda', args...)` instead.\n",
            "  with autocast():\n"
          ]
        },
        {
          "output_type": "stream",
          "name": "stdout",
          "text": [
            "Epoch [43/200] - Loss: 1.6764 - Train Acc: 51.81% - Val Acc: 77.42% - Val Loss: 0.9135 - Time: 76.40s\n"
          ]
        },
        {
          "output_type": "stream",
          "name": "stderr",
          "text": [
            "<ipython-input-1-306ed63246eb>:524: FutureWarning: `torch.cuda.amp.autocast(args...)` is deprecated. Please use `torch.amp.autocast('cuda', args...)` instead.\n",
            "  with autocast():\n",
            "<ipython-input-1-306ed63246eb>:530: FutureWarning: `torch.cuda.amp.autocast(args...)` is deprecated. Please use `torch.amp.autocast('cuda', args...)` instead.\n",
            "  with autocast():\n"
          ]
        },
        {
          "output_type": "stream",
          "name": "stdout",
          "text": [
            "Epoch [44/200] - Loss: 1.6895 - Train Acc: 51.43% - Val Acc: 79.38% - Val Loss: 0.8224 - Time: 74.85s\n",
            "Best model saved with Val Acc: 79.38%\n"
          ]
        },
        {
          "output_type": "stream",
          "name": "stderr",
          "text": [
            "<ipython-input-1-306ed63246eb>:524: FutureWarning: `torch.cuda.amp.autocast(args...)` is deprecated. Please use `torch.amp.autocast('cuda', args...)` instead.\n",
            "  with autocast():\n",
            "<ipython-input-1-306ed63246eb>:530: FutureWarning: `torch.cuda.amp.autocast(args...)` is deprecated. Please use `torch.amp.autocast('cuda', args...)` instead.\n",
            "  with autocast():\n"
          ]
        },
        {
          "output_type": "stream",
          "name": "stdout",
          "text": [
            "Epoch [45/200] - Loss: 1.6729 - Train Acc: 52.00% - Val Acc: 75.75% - Val Loss: 0.8798 - Time: 73.25s\n"
          ]
        },
        {
          "output_type": "stream",
          "name": "stderr",
          "text": [
            "<ipython-input-1-306ed63246eb>:524: FutureWarning: `torch.cuda.amp.autocast(args...)` is deprecated. Please use `torch.amp.autocast('cuda', args...)` instead.\n",
            "  with autocast():\n",
            "<ipython-input-1-306ed63246eb>:530: FutureWarning: `torch.cuda.amp.autocast(args...)` is deprecated. Please use `torch.amp.autocast('cuda', args...)` instead.\n",
            "  with autocast():\n"
          ]
        },
        {
          "output_type": "stream",
          "name": "stdout",
          "text": [
            "Epoch [46/200] - Loss: 1.7025 - Train Acc: 50.67% - Val Acc: 76.80% - Val Loss: 0.9390 - Time: 73.64s\n"
          ]
        },
        {
          "output_type": "stream",
          "name": "stderr",
          "text": [
            "<ipython-input-1-306ed63246eb>:530: FutureWarning: `torch.cuda.amp.autocast(args...)` is deprecated. Please use `torch.amp.autocast('cuda', args...)` instead.\n",
            "  with autocast():\n",
            "<ipython-input-1-306ed63246eb>:524: FutureWarning: `torch.cuda.amp.autocast(args...)` is deprecated. Please use `torch.amp.autocast('cuda', args...)` instead.\n",
            "  with autocast():\n"
          ]
        },
        {
          "output_type": "stream",
          "name": "stdout",
          "text": [
            "Epoch [47/200] - Loss: 1.6878 - Train Acc: 51.46% - Val Acc: 72.95% - Val Loss: 0.9807 - Time: 75.60s\n"
          ]
        },
        {
          "output_type": "stream",
          "name": "stderr",
          "text": [
            "<ipython-input-1-306ed63246eb>:530: FutureWarning: `torch.cuda.amp.autocast(args...)` is deprecated. Please use `torch.amp.autocast('cuda', args...)` instead.\n",
            "  with autocast():\n",
            "<ipython-input-1-306ed63246eb>:524: FutureWarning: `torch.cuda.amp.autocast(args...)` is deprecated. Please use `torch.amp.autocast('cuda', args...)` instead.\n",
            "  with autocast():\n"
          ]
        },
        {
          "output_type": "stream",
          "name": "stdout",
          "text": [
            "Epoch [48/200] - Loss: 1.6844 - Train Acc: 51.41% - Val Acc: 75.69% - Val Loss: 0.8997 - Time: 73.23s\n"
          ]
        },
        {
          "output_type": "stream",
          "name": "stderr",
          "text": [
            "<ipython-input-1-306ed63246eb>:530: FutureWarning: `torch.cuda.amp.autocast(args...)` is deprecated. Please use `torch.amp.autocast('cuda', args...)` instead.\n",
            "  with autocast():\n",
            "<ipython-input-1-306ed63246eb>:524: FutureWarning: `torch.cuda.amp.autocast(args...)` is deprecated. Please use `torch.amp.autocast('cuda', args...)` instead.\n",
            "  with autocast():\n"
          ]
        },
        {
          "output_type": "stream",
          "name": "stdout",
          "text": [
            "Epoch [49/200] - Loss: 1.6803 - Train Acc: 51.80% - Val Acc: 75.93% - Val Loss: 0.8913 - Time: 73.29s\n"
          ]
        },
        {
          "output_type": "stream",
          "name": "stderr",
          "text": [
            "<ipython-input-1-306ed63246eb>:524: FutureWarning: `torch.cuda.amp.autocast(args...)` is deprecated. Please use `torch.amp.autocast('cuda', args...)` instead.\n",
            "  with autocast():\n",
            "<ipython-input-1-306ed63246eb>:530: FutureWarning: `torch.cuda.amp.autocast(args...)` is deprecated. Please use `torch.amp.autocast('cuda', args...)` instead.\n",
            "  with autocast():\n"
          ]
        },
        {
          "output_type": "stream",
          "name": "stdout",
          "text": [
            "Epoch [50/200] - Loss: 1.7033 - Train Acc: 50.63% - Val Acc: 75.77% - Val Loss: 0.9454 - Time: 73.08s\n",
            "Checkpoint saved at Epoch 50\n"
          ]
        },
        {
          "output_type": "stream",
          "name": "stderr",
          "text": [
            "<ipython-input-1-306ed63246eb>:524: FutureWarning: `torch.cuda.amp.autocast(args...)` is deprecated. Please use `torch.amp.autocast('cuda', args...)` instead.\n",
            "  with autocast():\n",
            "<ipython-input-1-306ed63246eb>:530: FutureWarning: `torch.cuda.amp.autocast(args...)` is deprecated. Please use `torch.amp.autocast('cuda', args...)` instead.\n",
            "  with autocast():\n"
          ]
        },
        {
          "output_type": "stream",
          "name": "stdout",
          "text": [
            "Epoch [51/200] - Loss: 1.7002 - Train Acc: 50.91% - Val Acc: 76.35% - Val Loss: 0.9446 - Time: 76.04s\n"
          ]
        },
        {
          "output_type": "stream",
          "name": "stderr",
          "text": [
            "<ipython-input-1-306ed63246eb>:524: FutureWarning: `torch.cuda.amp.autocast(args...)` is deprecated. Please use `torch.amp.autocast('cuda', args...)` instead.\n",
            "  with autocast():\n",
            "<ipython-input-1-306ed63246eb>:530: FutureWarning: `torch.cuda.amp.autocast(args...)` is deprecated. Please use `torch.amp.autocast('cuda', args...)` instead.\n",
            "  with autocast():\n"
          ]
        },
        {
          "output_type": "stream",
          "name": "stdout",
          "text": [
            "Epoch [52/200] - Loss: 1.6768 - Train Acc: 52.12% - Val Acc: 77.48% - Val Loss: 0.8111 - Time: 74.24s\n"
          ]
        },
        {
          "output_type": "stream",
          "name": "stderr",
          "text": [
            "<ipython-input-1-306ed63246eb>:524: FutureWarning: `torch.cuda.amp.autocast(args...)` is deprecated. Please use `torch.amp.autocast('cuda', args...)` instead.\n",
            "  with autocast():\n",
            "<ipython-input-1-306ed63246eb>:530: FutureWarning: `torch.cuda.amp.autocast(args...)` is deprecated. Please use `torch.amp.autocast('cuda', args...)` instead.\n",
            "  with autocast():\n"
          ]
        },
        {
          "output_type": "stream",
          "name": "stdout",
          "text": [
            "Epoch [53/200] - Loss: 1.6810 - Train Acc: 51.73% - Val Acc: 77.30% - Val Loss: 0.8535 - Time: 74.09s\n"
          ]
        },
        {
          "output_type": "stream",
          "name": "stderr",
          "text": [
            "<ipython-input-1-306ed63246eb>:530: FutureWarning: `torch.cuda.amp.autocast(args...)` is deprecated. Please use `torch.amp.autocast('cuda', args...)` instead.\n",
            "  with autocast():\n",
            "<ipython-input-1-306ed63246eb>:524: FutureWarning: `torch.cuda.amp.autocast(args...)` is deprecated. Please use `torch.amp.autocast('cuda', args...)` instead.\n",
            "  with autocast():\n"
          ]
        },
        {
          "output_type": "stream",
          "name": "stdout",
          "text": [
            "Epoch [54/200] - Loss: 1.6728 - Train Acc: 52.32% - Val Acc: 76.75% - Val Loss: 0.9000 - Time: 74.48s\n"
          ]
        },
        {
          "output_type": "stream",
          "name": "stderr",
          "text": [
            "<ipython-input-1-306ed63246eb>:524: FutureWarning: `torch.cuda.amp.autocast(args...)` is deprecated. Please use `torch.amp.autocast('cuda', args...)` instead.\n",
            "  with autocast():\n",
            "<ipython-input-1-306ed63246eb>:530: FutureWarning: `torch.cuda.amp.autocast(args...)` is deprecated. Please use `torch.amp.autocast('cuda', args...)` instead.\n",
            "  with autocast():\n"
          ]
        },
        {
          "output_type": "stream",
          "name": "stdout",
          "text": [
            "Epoch [55/200] - Loss: 1.6705 - Train Acc: 52.56% - Val Acc: 76.46% - Val Loss: 0.9210 - Time: 76.49s\n"
          ]
        },
        {
          "output_type": "stream",
          "name": "stderr",
          "text": [
            "<ipython-input-1-306ed63246eb>:530: FutureWarning: `torch.cuda.amp.autocast(args...)` is deprecated. Please use `torch.amp.autocast('cuda', args...)` instead.\n",
            "  with autocast():\n",
            "<ipython-input-1-306ed63246eb>:524: FutureWarning: `torch.cuda.amp.autocast(args...)` is deprecated. Please use `torch.amp.autocast('cuda', args...)` instead.\n",
            "  with autocast():\n"
          ]
        },
        {
          "output_type": "stream",
          "name": "stdout",
          "text": [
            "Epoch [56/200] - Loss: 1.6847 - Train Acc: 51.51% - Val Acc: 78.18% - Val Loss: 0.8519 - Time: 76.75s\n"
          ]
        },
        {
          "output_type": "stream",
          "name": "stderr",
          "text": [
            "<ipython-input-1-306ed63246eb>:530: FutureWarning: `torch.cuda.amp.autocast(args...)` is deprecated. Please use `torch.amp.autocast('cuda', args...)` instead.\n",
            "  with autocast():\n",
            "<ipython-input-1-306ed63246eb>:524: FutureWarning: `torch.cuda.amp.autocast(args...)` is deprecated. Please use `torch.amp.autocast('cuda', args...)` instead.\n",
            "  with autocast():\n"
          ]
        },
        {
          "output_type": "stream",
          "name": "stdout",
          "text": [
            "Epoch [57/200] - Loss: 1.6827 - Train Acc: 51.71% - Val Acc: 79.40% - Val Loss: 0.8551 - Time: 73.81s\n",
            "Best model saved with Val Acc: 79.40%\n"
          ]
        },
        {
          "output_type": "stream",
          "name": "stderr",
          "text": [
            "<ipython-input-1-306ed63246eb>:524: FutureWarning: `torch.cuda.amp.autocast(args...)` is deprecated. Please use `torch.amp.autocast('cuda', args...)` instead.\n",
            "  with autocast():\n",
            "<ipython-input-1-306ed63246eb>:530: FutureWarning: `torch.cuda.amp.autocast(args...)` is deprecated. Please use `torch.amp.autocast('cuda', args...)` instead.\n",
            "  with autocast():\n"
          ]
        },
        {
          "output_type": "stream",
          "name": "stdout",
          "text": [
            "Epoch [58/200] - Loss: 1.6897 - Train Acc: 51.38% - Val Acc: 75.72% - Val Loss: 0.8584 - Time: 74.23s\n"
          ]
        },
        {
          "output_type": "stream",
          "name": "stderr",
          "text": [
            "<ipython-input-1-306ed63246eb>:524: FutureWarning: `torch.cuda.amp.autocast(args...)` is deprecated. Please use `torch.amp.autocast('cuda', args...)` instead.\n",
            "  with autocast():\n",
            "<ipython-input-1-306ed63246eb>:530: FutureWarning: `torch.cuda.amp.autocast(args...)` is deprecated. Please use `torch.amp.autocast('cuda', args...)` instead.\n",
            "  with autocast():\n"
          ]
        },
        {
          "output_type": "stream",
          "name": "stdout",
          "text": [
            "Epoch [59/200] - Loss: 1.6700 - Train Acc: 52.49% - Val Acc: 74.28% - Val Loss: 0.9748 - Time: 75.63s\n"
          ]
        },
        {
          "output_type": "stream",
          "name": "stderr",
          "text": [
            "<ipython-input-1-306ed63246eb>:530: FutureWarning: `torch.cuda.amp.autocast(args...)` is deprecated. Please use `torch.amp.autocast('cuda', args...)` instead.\n",
            "  with autocast():\n",
            "<ipython-input-1-306ed63246eb>:524: FutureWarning: `torch.cuda.amp.autocast(args...)` is deprecated. Please use `torch.amp.autocast('cuda', args...)` instead.\n",
            "  with autocast():\n"
          ]
        },
        {
          "output_type": "stream",
          "name": "stdout",
          "text": [
            "Epoch [60/200] - Loss: 1.6728 - Train Acc: 52.20% - Val Acc: 77.98% - Val Loss: 0.8663 - Time: 74.00s\n",
            "Checkpoint saved at Epoch 60\n"
          ]
        },
        {
          "output_type": "stream",
          "name": "stderr",
          "text": [
            "<ipython-input-1-306ed63246eb>:530: FutureWarning: `torch.cuda.amp.autocast(args...)` is deprecated. Please use `torch.amp.autocast('cuda', args...)` instead.\n",
            "  with autocast():\n",
            "<ipython-input-1-306ed63246eb>:524: FutureWarning: `torch.cuda.amp.autocast(args...)` is deprecated. Please use `torch.amp.autocast('cuda', args...)` instead.\n",
            "  with autocast():\n"
          ]
        },
        {
          "output_type": "stream",
          "name": "stdout",
          "text": [
            "Epoch [61/200] - Loss: 1.6737 - Train Acc: 52.19% - Val Acc: 76.11% - Val Loss: 0.8745 - Time: 74.35s\n"
          ]
        },
        {
          "output_type": "stream",
          "name": "stderr",
          "text": [
            "<ipython-input-1-306ed63246eb>:524: FutureWarning: `torch.cuda.amp.autocast(args...)` is deprecated. Please use `torch.amp.autocast('cuda', args...)` instead.\n",
            "  with autocast():\n",
            "<ipython-input-1-306ed63246eb>:530: FutureWarning: `torch.cuda.amp.autocast(args...)` is deprecated. Please use `torch.amp.autocast('cuda', args...)` instead.\n",
            "  with autocast():\n"
          ]
        },
        {
          "output_type": "stream",
          "name": "stdout",
          "text": [
            "Epoch [62/200] - Loss: 1.6627 - Train Acc: 52.53% - Val Acc: 76.25% - Val Loss: 1.0139 - Time: 74.37s\n"
          ]
        },
        {
          "output_type": "stream",
          "name": "stderr",
          "text": [
            "<ipython-input-1-306ed63246eb>:530: FutureWarning: `torch.cuda.amp.autocast(args...)` is deprecated. Please use `torch.amp.autocast('cuda', args...)` instead.\n",
            "  with autocast():\n",
            "<ipython-input-1-306ed63246eb>:524: FutureWarning: `torch.cuda.amp.autocast(args...)` is deprecated. Please use `torch.amp.autocast('cuda', args...)` instead.\n",
            "  with autocast():\n"
          ]
        },
        {
          "output_type": "stream",
          "name": "stdout",
          "text": [
            "Epoch [63/200] - Loss: 1.6746 - Train Acc: 52.04% - Val Acc: 76.98% - Val Loss: 0.8718 - Time: 76.83s\n"
          ]
        },
        {
          "output_type": "stream",
          "name": "stderr",
          "text": [
            "<ipython-input-1-306ed63246eb>:530: FutureWarning: `torch.cuda.amp.autocast(args...)` is deprecated. Please use `torch.amp.autocast('cuda', args...)` instead.\n",
            "  with autocast():\n",
            "<ipython-input-1-306ed63246eb>:524: FutureWarning: `torch.cuda.amp.autocast(args...)` is deprecated. Please use `torch.amp.autocast('cuda', args...)` instead.\n",
            "  with autocast():\n"
          ]
        },
        {
          "output_type": "stream",
          "name": "stdout",
          "text": [
            "Epoch [64/200] - Loss: 1.6774 - Train Acc: 51.97% - Val Acc: 75.90% - Val Loss: 0.9279 - Time: 75.53s\n"
          ]
        },
        {
          "output_type": "stream",
          "name": "stderr",
          "text": [
            "<ipython-input-1-306ed63246eb>:524: FutureWarning: `torch.cuda.amp.autocast(args...)` is deprecated. Please use `torch.amp.autocast('cuda', args...)` instead.\n",
            "  with autocast():\n",
            "<ipython-input-1-306ed63246eb>:530: FutureWarning: `torch.cuda.amp.autocast(args...)` is deprecated. Please use `torch.amp.autocast('cuda', args...)` instead.\n",
            "  with autocast():\n"
          ]
        },
        {
          "output_type": "stream",
          "name": "stdout",
          "text": [
            "Epoch [65/200] - Loss: 1.6858 - Train Acc: 51.63% - Val Acc: 77.60% - Val Loss: 0.8681 - Time: 75.03s\n"
          ]
        },
        {
          "output_type": "stream",
          "name": "stderr",
          "text": [
            "<ipython-input-1-306ed63246eb>:524: FutureWarning: `torch.cuda.amp.autocast(args...)` is deprecated. Please use `torch.amp.autocast('cuda', args...)` instead.\n",
            "  with autocast():\n",
            "<ipython-input-1-306ed63246eb>:530: FutureWarning: `torch.cuda.amp.autocast(args...)` is deprecated. Please use `torch.amp.autocast('cuda', args...)` instead.\n",
            "  with autocast():\n"
          ]
        },
        {
          "output_type": "stream",
          "name": "stdout",
          "text": [
            "Epoch [66/200] - Loss: 1.6884 - Train Acc: 51.29% - Val Acc: 77.18% - Val Loss: 0.8887 - Time: 74.44s\n"
          ]
        },
        {
          "output_type": "stream",
          "name": "stderr",
          "text": [
            "<ipython-input-1-306ed63246eb>:524: FutureWarning: `torch.cuda.amp.autocast(args...)` is deprecated. Please use `torch.amp.autocast('cuda', args...)` instead.\n",
            "  with autocast():\n",
            "<ipython-input-1-306ed63246eb>:530: FutureWarning: `torch.cuda.amp.autocast(args...)` is deprecated. Please use `torch.amp.autocast('cuda', args...)` instead.\n",
            "  with autocast():\n"
          ]
        },
        {
          "output_type": "stream",
          "name": "stdout",
          "text": [
            "Epoch [67/200] - Loss: 1.6839 - Train Acc: 51.71% - Val Acc: 76.33% - Val Loss: 0.9571 - Time: 76.06s\n"
          ]
        },
        {
          "output_type": "stream",
          "name": "stderr",
          "text": [
            "<ipython-input-1-306ed63246eb>:530: FutureWarning: `torch.cuda.amp.autocast(args...)` is deprecated. Please use `torch.amp.autocast('cuda', args...)` instead.\n",
            "  with autocast():\n",
            "<ipython-input-1-306ed63246eb>:524: FutureWarning: `torch.cuda.amp.autocast(args...)` is deprecated. Please use `torch.amp.autocast('cuda', args...)` instead.\n",
            "  with autocast():\n"
          ]
        },
        {
          "output_type": "stream",
          "name": "stdout",
          "text": [
            "Epoch [68/200] - Loss: 1.6741 - Train Acc: 52.23% - Val Acc: 77.08% - Val Loss: 0.8940 - Time: 72.92s\n"
          ]
        },
        {
          "output_type": "stream",
          "name": "stderr",
          "text": [
            "<ipython-input-1-306ed63246eb>:524: FutureWarning: `torch.cuda.amp.autocast(args...)` is deprecated. Please use `torch.amp.autocast('cuda', args...)` instead.\n",
            "  with autocast():\n",
            "<ipython-input-1-306ed63246eb>:530: FutureWarning: `torch.cuda.amp.autocast(args...)` is deprecated. Please use `torch.amp.autocast('cuda', args...)` instead.\n",
            "  with autocast():\n"
          ]
        },
        {
          "output_type": "stream",
          "name": "stdout",
          "text": [
            "Epoch [69/200] - Loss: 1.6883 - Train Acc: 51.19% - Val Acc: 77.49% - Val Loss: 0.9285 - Time: 74.23s\n"
          ]
        },
        {
          "output_type": "stream",
          "name": "stderr",
          "text": [
            "<ipython-input-1-306ed63246eb>:524: FutureWarning: `torch.cuda.amp.autocast(args...)` is deprecated. Please use `torch.amp.autocast('cuda', args...)` instead.\n",
            "  with autocast():\n",
            "<ipython-input-1-306ed63246eb>:530: FutureWarning: `torch.cuda.amp.autocast(args...)` is deprecated. Please use `torch.amp.autocast('cuda', args...)` instead.\n",
            "  with autocast():\n"
          ]
        },
        {
          "output_type": "stream",
          "name": "stdout",
          "text": [
            "Epoch [70/200] - Loss: 1.6803 - Train Acc: 52.08% - Val Acc: 79.30% - Val Loss: 0.8341 - Time: 74.55s\n",
            "Checkpoint saved at Epoch 70\n"
          ]
        },
        {
          "output_type": "stream",
          "name": "stderr",
          "text": [
            "<ipython-input-1-306ed63246eb>:524: FutureWarning: `torch.cuda.amp.autocast(args...)` is deprecated. Please use `torch.amp.autocast('cuda', args...)` instead.\n",
            "  with autocast():\n",
            "<ipython-input-1-306ed63246eb>:530: FutureWarning: `torch.cuda.amp.autocast(args...)` is deprecated. Please use `torch.amp.autocast('cuda', args...)` instead.\n",
            "  with autocast():\n"
          ]
        },
        {
          "output_type": "stream",
          "name": "stdout",
          "text": [
            "Epoch [71/200] - Loss: 1.6821 - Train Acc: 51.72% - Val Acc: 77.05% - Val Loss: 0.8870 - Time: 75.71s\n"
          ]
        },
        {
          "output_type": "stream",
          "name": "stderr",
          "text": [
            "<ipython-input-1-306ed63246eb>:530: FutureWarning: `torch.cuda.amp.autocast(args...)` is deprecated. Please use `torch.amp.autocast('cuda', args...)` instead.\n",
            "  with autocast():\n",
            "<ipython-input-1-306ed63246eb>:524: FutureWarning: `torch.cuda.amp.autocast(args...)` is deprecated. Please use `torch.amp.autocast('cuda', args...)` instead.\n",
            "  with autocast():\n"
          ]
        },
        {
          "output_type": "stream",
          "name": "stdout",
          "text": [
            "Epoch [72/200] - Loss: 1.6804 - Train Acc: 51.93% - Val Acc: 74.31% - Val Loss: 0.9318 - Time: 73.70s\n"
          ]
        },
        {
          "output_type": "stream",
          "name": "stderr",
          "text": [
            "<ipython-input-1-306ed63246eb>:530: FutureWarning: `torch.cuda.amp.autocast(args...)` is deprecated. Please use `torch.amp.autocast('cuda', args...)` instead.\n",
            "  with autocast():\n",
            "<ipython-input-1-306ed63246eb>:524: FutureWarning: `torch.cuda.amp.autocast(args...)` is deprecated. Please use `torch.amp.autocast('cuda', args...)` instead.\n",
            "  with autocast():\n"
          ]
        },
        {
          "output_type": "stream",
          "name": "stdout",
          "text": [
            "Epoch [73/200] - Loss: 1.6862 - Train Acc: 51.62% - Val Acc: 76.68% - Val Loss: 0.9051 - Time: 73.62s\n"
          ]
        },
        {
          "output_type": "stream",
          "name": "stderr",
          "text": [
            "<ipython-input-1-306ed63246eb>:524: FutureWarning: `torch.cuda.amp.autocast(args...)` is deprecated. Please use `torch.amp.autocast('cuda', args...)` instead.\n",
            "  with autocast():\n",
            "<ipython-input-1-306ed63246eb>:530: FutureWarning: `torch.cuda.amp.autocast(args...)` is deprecated. Please use `torch.amp.autocast('cuda', args...)` instead.\n",
            "  with autocast():\n"
          ]
        },
        {
          "output_type": "stream",
          "name": "stdout",
          "text": [
            "Epoch [74/200] - Loss: 1.6797 - Train Acc: 51.93% - Val Acc: 74.29% - Val Loss: 1.0132 - Time: 74.48s\n"
          ]
        },
        {
          "output_type": "stream",
          "name": "stderr",
          "text": [
            "<ipython-input-1-306ed63246eb>:530: FutureWarning: `torch.cuda.amp.autocast(args...)` is deprecated. Please use `torch.amp.autocast('cuda', args...)` instead.\n",
            "  with autocast():\n",
            "<ipython-input-1-306ed63246eb>:524: FutureWarning: `torch.cuda.amp.autocast(args...)` is deprecated. Please use `torch.amp.autocast('cuda', args...)` instead.\n",
            "  with autocast():\n"
          ]
        },
        {
          "output_type": "stream",
          "name": "stdout",
          "text": [
            "Epoch [75/200] - Loss: 1.6571 - Train Acc: 53.01% - Val Acc: 75.48% - Val Loss: 0.9084 - Time: 76.37s\n"
          ]
        },
        {
          "output_type": "stream",
          "name": "stderr",
          "text": [
            "<ipython-input-1-306ed63246eb>:530: FutureWarning: `torch.cuda.amp.autocast(args...)` is deprecated. Please use `torch.amp.autocast('cuda', args...)` instead.\n",
            "  with autocast():\n",
            "<ipython-input-1-306ed63246eb>:524: FutureWarning: `torch.cuda.amp.autocast(args...)` is deprecated. Please use `torch.amp.autocast('cuda', args...)` instead.\n",
            "  with autocast():\n"
          ]
        },
        {
          "output_type": "stream",
          "name": "stdout",
          "text": [
            "Epoch [76/200] - Loss: 1.6766 - Train Acc: 52.14% - Val Acc: 77.05% - Val Loss: 0.8530 - Time: 73.52s\n"
          ]
        },
        {
          "output_type": "stream",
          "name": "stderr",
          "text": [
            "<ipython-input-1-306ed63246eb>:524: FutureWarning: `torch.cuda.amp.autocast(args...)` is deprecated. Please use `torch.amp.autocast('cuda', args...)` instead.\n",
            "  with autocast():\n",
            "<ipython-input-1-306ed63246eb>:530: FutureWarning: `torch.cuda.amp.autocast(args...)` is deprecated. Please use `torch.amp.autocast('cuda', args...)` instead.\n",
            "  with autocast():\n"
          ]
        },
        {
          "output_type": "stream",
          "name": "stdout",
          "text": [
            "Epoch [77/200] - Loss: 1.6580 - Train Acc: 52.93% - Val Acc: 78.39% - Val Loss: 0.8449 - Time: 73.38s\n"
          ]
        },
        {
          "output_type": "stream",
          "name": "stderr",
          "text": [
            "<ipython-input-1-306ed63246eb>:524: FutureWarning: `torch.cuda.amp.autocast(args...)` is deprecated. Please use `torch.amp.autocast('cuda', args...)` instead.\n",
            "  with autocast():\n",
            "<ipython-input-1-306ed63246eb>:530: FutureWarning: `torch.cuda.amp.autocast(args...)` is deprecated. Please use `torch.amp.autocast('cuda', args...)` instead.\n",
            "  with autocast():\n"
          ]
        },
        {
          "output_type": "stream",
          "name": "stdout",
          "text": [
            "Epoch [78/200] - Loss: 1.6734 - Train Acc: 52.04% - Val Acc: 79.17% - Val Loss: 0.8423 - Time: 73.44s\n"
          ]
        },
        {
          "output_type": "stream",
          "name": "stderr",
          "text": [
            "<ipython-input-1-306ed63246eb>:524: FutureWarning: `torch.cuda.amp.autocast(args...)` is deprecated. Please use `torch.amp.autocast('cuda', args...)` instead.\n",
            "  with autocast():\n",
            "<ipython-input-1-306ed63246eb>:530: FutureWarning: `torch.cuda.amp.autocast(args...)` is deprecated. Please use `torch.amp.autocast('cuda', args...)` instead.\n",
            "  with autocast():\n"
          ]
        },
        {
          "output_type": "stream",
          "name": "stdout",
          "text": [
            "Epoch [79/200] - Loss: 1.6730 - Train Acc: 52.02% - Val Acc: 76.48% - Val Loss: 0.9488 - Time: 74.82s\n"
          ]
        },
        {
          "output_type": "stream",
          "name": "stderr",
          "text": [
            "<ipython-input-1-306ed63246eb>:530: FutureWarning: `torch.cuda.amp.autocast(args...)` is deprecated. Please use `torch.amp.autocast('cuda', args...)` instead.\n",
            "  with autocast():\n",
            "<ipython-input-1-306ed63246eb>:524: FutureWarning: `torch.cuda.amp.autocast(args...)` is deprecated. Please use `torch.amp.autocast('cuda', args...)` instead.\n",
            "  with autocast():\n"
          ]
        },
        {
          "output_type": "stream",
          "name": "stdout",
          "text": [
            "Epoch [80/200] - Loss: 1.6796 - Train Acc: 51.85% - Val Acc: 78.07% - Val Loss: 0.9068 - Time: 73.63s\n",
            "Checkpoint saved at Epoch 80\n"
          ]
        },
        {
          "output_type": "stream",
          "name": "stderr",
          "text": [
            "<ipython-input-1-306ed63246eb>:530: FutureWarning: `torch.cuda.amp.autocast(args...)` is deprecated. Please use `torch.amp.autocast('cuda', args...)` instead.\n",
            "  with autocast():\n",
            "<ipython-input-1-306ed63246eb>:524: FutureWarning: `torch.cuda.amp.autocast(args...)` is deprecated. Please use `torch.amp.autocast('cuda', args...)` instead.\n",
            "  with autocast():\n"
          ]
        },
        {
          "output_type": "stream",
          "name": "stdout",
          "text": [
            "Epoch [81/200] - Loss: 1.6522 - Train Acc: 53.31% - Val Acc: 78.45% - Val Loss: 0.8429 - Time: 71.54s\n"
          ]
        },
        {
          "output_type": "stream",
          "name": "stderr",
          "text": [
            "<ipython-input-1-306ed63246eb>:530: FutureWarning: `torch.cuda.amp.autocast(args...)` is deprecated. Please use `torch.amp.autocast('cuda', args...)` instead.\n",
            "  with autocast():\n",
            "<ipython-input-1-306ed63246eb>:524: FutureWarning: `torch.cuda.amp.autocast(args...)` is deprecated. Please use `torch.amp.autocast('cuda', args...)` instead.\n",
            "  with autocast():\n"
          ]
        },
        {
          "output_type": "stream",
          "name": "stdout",
          "text": [
            "Epoch [82/200] - Loss: 1.6764 - Train Acc: 51.75% - Val Acc: 76.66% - Val Loss: 0.8615 - Time: 71.60s\n"
          ]
        },
        {
          "output_type": "stream",
          "name": "stderr",
          "text": [
            "<ipython-input-1-306ed63246eb>:530: FutureWarning: `torch.cuda.amp.autocast(args...)` is deprecated. Please use `torch.amp.autocast('cuda', args...)` instead.\n",
            "  with autocast():\n",
            "<ipython-input-1-306ed63246eb>:524: FutureWarning: `torch.cuda.amp.autocast(args...)` is deprecated. Please use `torch.amp.autocast('cuda', args...)` instead.\n",
            "  with autocast():\n"
          ]
        },
        {
          "output_type": "stream",
          "name": "stdout",
          "text": [
            "Epoch [83/200] - Loss: 1.6784 - Train Acc: 51.81% - Val Acc: 78.80% - Val Loss: 0.8987 - Time: 74.36s\n"
          ]
        },
        {
          "output_type": "stream",
          "name": "stderr",
          "text": [
            "<ipython-input-1-306ed63246eb>:524: FutureWarning: `torch.cuda.amp.autocast(args...)` is deprecated. Please use `torch.amp.autocast('cuda', args...)` instead.\n",
            "  with autocast():\n",
            "<ipython-input-1-306ed63246eb>:530: FutureWarning: `torch.cuda.amp.autocast(args...)` is deprecated. Please use `torch.amp.autocast('cuda', args...)` instead.\n",
            "  with autocast():\n"
          ]
        },
        {
          "output_type": "stream",
          "name": "stdout",
          "text": [
            "Epoch [84/200] - Loss: 1.6675 - Train Acc: 52.63% - Val Acc: 75.50% - Val Loss: 0.8529 - Time: 72.76s\n"
          ]
        },
        {
          "output_type": "stream",
          "name": "stderr",
          "text": [
            "<ipython-input-1-306ed63246eb>:524: FutureWarning: `torch.cuda.amp.autocast(args...)` is deprecated. Please use `torch.amp.autocast('cuda', args...)` instead.\n",
            "  with autocast():\n",
            "<ipython-input-1-306ed63246eb>:530: FutureWarning: `torch.cuda.amp.autocast(args...)` is deprecated. Please use `torch.amp.autocast('cuda', args...)` instead.\n",
            "  with autocast():\n"
          ]
        },
        {
          "output_type": "stream",
          "name": "stdout",
          "text": [
            "Epoch [85/200] - Loss: 1.6649 - Train Acc: 52.67% - Val Acc: 76.36% - Val Loss: 0.9028 - Time: 73.51s\n"
          ]
        },
        {
          "output_type": "stream",
          "name": "stderr",
          "text": [
            "<ipython-input-1-306ed63246eb>:530: FutureWarning: `torch.cuda.amp.autocast(args...)` is deprecated. Please use `torch.amp.autocast('cuda', args...)` instead.\n",
            "  with autocast():\n",
            "<ipython-input-1-306ed63246eb>:524: FutureWarning: `torch.cuda.amp.autocast(args...)` is deprecated. Please use `torch.amp.autocast('cuda', args...)` instead.\n",
            "  with autocast():\n"
          ]
        },
        {
          "output_type": "stream",
          "name": "stdout",
          "text": [
            "Epoch [86/200] - Loss: 1.6721 - Train Acc: 52.31% - Val Acc: 74.30% - Val Loss: 0.9702 - Time: 73.78s\n"
          ]
        },
        {
          "output_type": "stream",
          "name": "stderr",
          "text": [
            "<ipython-input-1-306ed63246eb>:524: FutureWarning: `torch.cuda.amp.autocast(args...)` is deprecated. Please use `torch.amp.autocast('cuda', args...)` instead.\n",
            "  with autocast():\n",
            "<ipython-input-1-306ed63246eb>:530: FutureWarning: `torch.cuda.amp.autocast(args...)` is deprecated. Please use `torch.amp.autocast('cuda', args...)` instead.\n",
            "  with autocast():\n"
          ]
        },
        {
          "output_type": "stream",
          "name": "stdout",
          "text": [
            "Epoch [87/200] - Loss: 1.6484 - Train Acc: 53.52% - Val Acc: 75.37% - Val Loss: 0.9316 - Time: 75.33s\n",
            "Early stopping triggered!\n",
            "\n",
            "Training Completed!\n",
            "Best Validation Accuracy: 79.40%\n"
          ]
        },
        {
          "output_type": "stream",
          "name": "stderr",
          "text": [
            "<ipython-input-1-306ed63246eb>:604: FutureWarning: You are using `torch.load` with `weights_only=False` (the current default value), which uses the default pickle module implicitly. It is possible to construct malicious pickle data which will execute arbitrary code during unpickling (See https://github.com/pytorch/pytorch/blob/main/SECURITY.md#untrusted-models for more details). In a future release, the default value for `weights_only` will be flipped to `True`. This limits the functions that could be executed during unpickling. Arbitrary objects will no longer be allowed to be loaded via this mode unless they are explicitly allowlisted by the user via `torch.serialization.add_safe_globals`. We recommend you start setting `weights_only=True` for any use case where you don't have full control of the loaded file. Please open an issue on GitHub for any issues related to this experimental feature.\n",
            "  state_dict = torch.load('best_model.pth', map_location=device)\n"
          ]
        },
        {
          "output_type": "stream",
          "name": "stdout",
          "text": [
            "Best model loaded successfully.\n",
            "\n",
            "Final Test Accuracy: 79.40%\n"
          ]
        },
        {
          "output_type": "display_data",
          "data": {
            "text/plain": [
              "<Figure size 1000x800 with 2 Axes>"
            ],
            "image/png": "[encoded data removed]"
          },
          "metadata": {}
        },
        {
          "output_type": "display_data",
          "data": {
            "text/plain": [
              "<Figure size 1400x500 with 2 Axes>"
            ],
            "image/png": "[encoded data removed]"
          },
          "metadata": {}
        },
        {
          "output_type": "stream",
          "name": "stderr",
          "text": [
            "<ipython-input-1-306ed63246eb>:633: FutureWarning: `torch.cuda.amp.autocast(args...)` is deprecated. Please use `torch.amp.autocast('cuda', args...)` instead.\n",
            "  with autocast():\n"
          ]
        },
        {
          "output_type": "stream",
          "name": "stdout",
          "text": [
            "\n",
            "Classification Report:\n",
            "              precision    recall  f1-score   support\n",
            "\n",
            "    Airplane       0.77      0.85      0.81      1000\n",
            "  Automobile       0.82      0.97      0.89      1000\n",
            "        Bird       0.71      0.72      0.72      1000\n",
            "         Cat       0.74      0.53      0.62      1000\n",
            "        Deer       0.80      0.77      0.78      1000\n",
            "         Dog       0.68      0.78      0.73      1000\n",
            "        Frog       0.77      0.89      0.82      1000\n",
            "       Horse       0.83      0.85      0.84      1000\n",
            "        Ship       0.92      0.83      0.87      1000\n",
            "       Truck       0.96      0.76      0.85      1000\n",
            "\n",
            "    accuracy                           0.79     10000\n",
            "   macro avg       0.80      0.79      0.79     10000\n",
            "weighted avg       0.80      0.79      0.79     10000\n",
            "\n"
          ]
        }
      ],
      "source": [
        "import torch\n",
        "import torch.nn as nn\n",
        "import torch.nn.functional as F\n",
        "import torch.optim as optim\n",
        "import torchvision\n",
        "import torchvision.transforms as transforms\n",
        "from torch.optim.lr_scheduler import OneCycleLR\n",
        "from sklearn.metrics import accuracy_score, confusion_matrix, classification_report\n",
        "import matplotlib.pyplot as plt\n",
        "import seaborn as sns\n",
        "import time\n",
        "import os\n",
        "import numpy as np\n",
        "import random\n",
        "from torch.cuda.amp import GradScaler, autocast\n",
        "\n",
        "# ----------------------------\n",
        "# Set Seed for Reproducibility\n",
        "# ----------------------------\n",
        "def set_seed(seed=42):\n",
        "    torch.manual_seed(seed)\n",
        "    torch.cuda.manual_seed(seed)\n",
        "    np.random.seed(seed)\n",
        "    random.seed(seed)\n",
        "    torch.backends.cudnn.deterministic = True\n",
        "\n",
        "set_seed()\n",
        "\n",
        "# ----------------------------\n",
        "# Residual Block with Squeeze-and-Excitation (SE) and DropBlock\n",
        "# ----------------------------\n",
        "class ResidualBlock(nn.Module):\n",
        "    \"\"\"\n",
        "    A residual block with Squeeze-and-Excitation and DropBlock.\n",
        "    \"\"\"\n",
        "    def __init__(self, in_channels, out_channels, stride=1, drop_prob=0.2):\n",
        "        super(ResidualBlock, self).__init__()\n",
        "        self.conv1 = nn.Conv2d(in_channels, out_channels,\n",
        "                               kernel_size=3, stride=stride, padding=1, bias=False)\n",
        "        self.bn1 = nn.BatchNorm2d(out_channels)\n",
        "        self.relu = nn.ReLU(inplace=True)\n",
        "\n",
        "        self.conv2 = nn.Conv2d(out_channels, out_channels,\n",
        "                               kernel_size=3, stride=1, padding=1, bias=False)\n",
        "        self.bn2 = nn.BatchNorm2d(out_channels)\n",
        "\n",
        "        self.se = SqueezeExcitation(out_channels)\n",
        "\n",
        "        self.shortcut = nn.Sequential()\n",
        "        if stride !=1 or in_channels != out_channels:\n",
        "            self.shortcut = nn.Sequential(\n",
        "                nn.Conv2d(in_channels, out_channels,\n",
        "                          kernel_size=1, stride=stride, bias=False),\n",
        "                nn.BatchNorm2d(out_channels)\n",
        "            )\n",
        "\n",
        "        self.dropblock = DropBlock(drop_prob) if drop_prob > 0 else nn.Identity()\n",
        "\n",
        "    def forward(self, x):\n",
        "        out = self.conv1(x)\n",
        "        out = self.bn1(out)\n",
        "        out = self.relu(out)\n",
        "\n",
        "        out = self.conv2(out)\n",
        "        out = self.bn2(out)\n",
        "\n",
        "        out = self.se(out)\n",
        "        out += self.shortcut(x)\n",
        "        out = self.relu(out)\n",
        "        out = self.dropblock(out)\n",
        "        return out\n",
        "\n",
        "# ----------------------------\n",
        "# Squeeze-and-Excitation Block\n",
        "# ----------------------------\n",
        "class SqueezeExcitation(nn.Module):\n",
        "    def __init__(self, channel, reduction=16):\n",
        "        super(SqueezeExcitation, self).__init__()\n",
        "        self.fc1 = nn.Linear(channel, channel // reduction, bias=False)\n",
        "        self.relu = nn.ReLU(inplace=True)\n",
        "        self.fc2 = nn.Linear(channel // reduction, channel, bias=False)\n",
        "        self.sigmoid = nn.Sigmoid()\n",
        "\n",
        "    def forward(self, x):\n",
        "        b, c, _, _ = x.size()\n",
        "        y = F.adaptive_avg_pool2d(x, 1).view(b, c)\n",
        "        y = self.fc1(y)\n",
        "        y = self.relu(y)\n",
        "        y = self.fc2(y)\n",
        "        y = self.sigmoid(y).view(b, c, 1, 1)\n",
        "        return x * y.expand_as(x)\n",
        "\n",
        "# ----------------------------\n",
        "# DropBlock Regularization\n",
        "# ----------------------------\n",
        "class DropBlock(nn.Module):\n",
        "    def __init__(self, drop_prob=0.2, block_size=7):\n",
        "        super(DropBlock, self).__init__()\n",
        "        self.drop_prob = drop_prob\n",
        "        self.block_size = block_size\n",
        "\n",
        "    def forward(self, x):\n",
        "        if not self.training or self.drop_prob == 0.0:\n",
        "            return x\n",
        "        else:\n",
        "            # Get gamma\n",
        "            gamma = self._compute_gamma(x)\n",
        "            # Sample mask\n",
        "            mask = (torch.rand(x.shape[:2], device=x.device) < gamma).float()\n",
        "            # Compute block mask\n",
        "            mask = F.max_pool2d(mask.unsqueeze(1), kernel_size=self.block_size,\n",
        "                                stride=1, padding=self.block_size//2)\n",
        "            mask = 1 - mask.squeeze(1)\n",
        "            # Apply mask\n",
        "            out = x * mask.unsqueeze(2).unsqueeze(3)\n",
        "            out = out * (mask.numel() / mask.sum())\n",
        "            return out\n",
        "\n",
        "    def _compute_gamma(self, x):\n",
        "        b, c, h, w = x.size()\n",
        "        return self.drop_prob * (h * w) / (self.block_size **2) / ((h - self.block_size +1) * (w - self.block_size +1))\n",
        "\n",
        "# ----------------------------\n",
        "# Global Feature Extractor\n",
        "# ----------------------------\n",
        "class GlobalFeatureExtractor(nn.Module):\n",
        "    \"\"\"\n",
        "    Extracts global features from the input image with residual connections.\n",
        "    \"\"\"\n",
        "    def __init__(self, in_channels, out_channels, num_blocks=6, drop_prob=0.2):\n",
        "        super(GlobalFeatureExtractor, self).__init__()\n",
        "        layers = []\n",
        "        for i in range(num_blocks):\n",
        "            stride = 1 if i ==0 else 2\n",
        "            layers.append(ResidualBlock(in_channels if i ==0 else out_channels, out_channels, stride, drop_prob))\n",
        "            in_channels = out_channels\n",
        "        self.layer = nn.Sequential(*layers)\n",
        "        self.pool = nn.AdaptiveAvgPool2d((1,1))\n",
        "\n",
        "    def forward(self, x):\n",
        "        x = self.layer(x)\n",
        "        x = self.pool(x)\n",
        "        x = x.view(x.size(0), -1)\n",
        "        return x  # [B, out_channels]\n",
        "\n",
        "# ----------------------------\n",
        "# Local Feature Extractor\n",
        "# ----------------------------\n",
        "class LocalFeatureExtractor(nn.Module):\n",
        "    \"\"\"\n",
        "    Extracts local features from the input image with residual connections.\n",
        "    \"\"\"\n",
        "    def __init__(self, in_channels, out_channels, num_blocks=6, drop_prob=0.2):\n",
        "        super(LocalFeatureExtractor, self).__init__()\n",
        "        layers = []\n",
        "        for i in range(num_blocks):\n",
        "            stride = 1 if i ==0 else 2\n",
        "            layers.append(ResidualBlock(in_channels if i ==0 else out_channels, out_channels, stride, drop_prob))\n",
        "            in_channels = out_channels\n",
        "        self.layer = nn.Sequential(*layers)\n",
        "        self.pool = nn.AdaptiveAvgPool2d((2,2))  # Retains some spatial information\n",
        "\n",
        "    def forward(self, x):\n",
        "        x = self.layer(x)\n",
        "        x = self.pool(x)\n",
        "        return x  # [B, out_channels, 2, 2]\n",
        "\n",
        "# ----------------------------\n",
        "# Enhanced Adaptive Attention Module with Multi-Head Attention\n",
        "# ----------------------------\n",
        "class EnhancedAdaptiveAttentionModule(nn.Module):\n",
        "    \"\"\"\n",
        "    Enhanced Adaptive Attention Module with Multi-Head Attention.\n",
        "    \"\"\"\n",
        "    def __init__(self, global_dim, local_dim, num_heads=8):\n",
        "        super(EnhancedAdaptiveAttentionModule, self).__init__()\n",
        "        self.query = nn.Linear(global_dim + local_dim, global_dim)\n",
        "        self.key = nn.Linear(global_dim + local_dim, global_dim)\n",
        "        self.value = nn.Linear(global_dim + local_dim, global_dim)\n",
        "        self.multihead_attn = nn.MultiheadAttention(embed_dim=global_dim, num_heads=num_heads, batch_first=True)\n",
        "        self.fc = nn.Sequential(\n",
        "            nn.Linear(global_dim, 128),\n",
        "            nn.ReLU(inplace=True),\n",
        "            nn.Linear(128, 2),\n",
        "            nn.Softmax(dim=1)\n",
        "        )\n",
        "\n",
        "    def forward(self, global_feat, local_feat):\n",
        "        # global_feat: [B, global_dim]\n",
        "        # local_feat: [B, local_dim, H, W]\n",
        "        local_feat_mean = torch.mean(local_feat, dim=[2,3])  # [B, local_dim]\n",
        "        combined = torch.cat((global_feat, local_feat_mean), dim=1)  # [B, global_dim + local_dim]\n",
        "\n",
        "        query = self.query(combined).unsqueeze(1)  # [B,1,global_dim]\n",
        "        key = self.key(combined).unsqueeze(1)      # [B,1,global_dim]\n",
        "        value = self.value(combined).unsqueeze(1)  # [B,1,global_dim]\n",
        "\n",
        "        attn_output, _ = self.multihead_attn(query, key, value)  # [B,1,global_dim]\n",
        "        attn_output = attn_output.squeeze(1)  # [B, global_dim]\n",
        "\n",
        "        weights = self.fc(attn_output)  # [B,2]\n",
        "\n",
        "        global_weight = weights[:,0].unsqueeze(1)  # [B,1]\n",
        "        local_weight = weights[:,1].unsqueeze(1)   # [B,1]\n",
        "\n",
        "        return global_weight, local_weight  # Each [B,1]\n",
        "\n",
        "# ----------------------------\n",
        "# Dynamic Holistic Perception Network\n",
        "# ----------------------------\n",
        "class DynamicHolisticPerceptionNetwork(nn.Module):\n",
        "    \"\"\"\n",
        "    Dynamic Holistic Perception Network combining global and local features with residual connections.\n",
        "    \"\"\"\n",
        "    def __init__(self, num_classes=10):\n",
        "        super(DynamicHolisticPerceptionNetwork, self).__init__()\n",
        "        # Initial Convolutional Layers\n",
        "        self.initial_conv = nn.Sequential(\n",
        "            nn.Conv2d(3, 128, kernel_size=3, padding=1),  # [B,128,32,32]\n",
        "            nn.BatchNorm2d(128),\n",
        "            nn.ReLU(inplace=True),\n",
        "            nn.MaxPool2d(2),  # [B,128,16,16]\n",
        "            nn.Conv2d(128, 128, kernel_size=3, padding=1),  # [B,128,16,16]\n",
        "            nn.BatchNorm2d(128),\n",
        "            nn.ReLU(inplace=True),\n",
        "            nn.MaxPool2d(2)   # [B,128,8,8]\n",
        "        )\n",
        "\n",
        "        # Feature Extractors with Residual Blocks\n",
        "        self.global_extractor = GlobalFeatureExtractor(in_channels=128, out_channels=512, num_blocks=6, drop_prob=0.2)  # Output: [B,512]\n",
        "        self.local_extractor = LocalFeatureExtractor(in_channels=128, out_channels=512, num_blocks=6, drop_prob=0.2)    # Output: [B,512,2,2]\n",
        "\n",
        "        # Enhanced Adaptive Attention Module\n",
        "        self.adaptive_attention = EnhancedAdaptiveAttentionModule(global_dim=512, local_dim=512, num_heads=8)\n",
        "\n",
        "        # Fusion and Classification Layers\n",
        "        self.fusion_fc = nn.Sequential(\n",
        "            nn.Linear(512 + 512, 1024),  # [B,1024]\n",
        "            nn.ReLU(inplace=True),\n",
        "            nn.Dropout(0.3),\n",
        "            nn.Linear(1024, 512),\n",
        "            nn.ReLU(inplace=True),\n",
        "            nn.Dropout(0.3),\n",
        "            nn.Linear(512, num_classes)\n",
        "        )\n",
        "\n",
        "    def forward(self, x):\n",
        "        x = self.initial_conv(x)  # [B,128,8,8]\n",
        "        global_feat = self.global_extractor(x)  # [B,512]\n",
        "        local_feat = self.local_extractor(x)    # [B,512,2,2]\n",
        "\n",
        "        global_weight, local_weight = self.adaptive_attention(global_feat, local_feat)  # Each [B,1]\n",
        "\n",
        "        # Weight the features\n",
        "        global_feat_weighted = global_feat * global_weight  # [B,512]\n",
        "        local_feat_pooled = F.adaptive_avg_pool2d(local_feat, (1,1)).view(local_feat.size(0), -1)  # [B,512]\n",
        "        local_feat_weighted = local_feat_pooled * local_weight  # [B,512]\n",
        "\n",
        "        # Concatenate weighted features\n",
        "        fused_feat = torch.cat((global_feat_weighted, local_feat_weighted), dim=1)  # [B,1024]\n",
        "\n",
        "        # Classification\n",
        "        out = self.fusion_fc(fused_feat)  # [B, num_classes]\n",
        "        return out\n",
        "\n",
        "# ----------------------------\n",
        "# Mixup and CutMix Functions\n",
        "# ----------------------------\n",
        "def rand_bbox(size, lam):\n",
        "    '''Generates a random bounding box for CutMix.'''\n",
        "    W = size[2]\n",
        "    H = size[3]\n",
        "    cut_rat = np.sqrt(1. - lam)\n",
        "    cut_w = int(W * cut_rat)\n",
        "    cut_h = int(H * cut_rat)\n",
        "\n",
        "    # uniform\n",
        "    cx = np.random.randint(W)\n",
        "    cy = np.random.randint(H)\n",
        "\n",
        "    bbx1 = np.clip(cx - cut_w // 2, 0, W)\n",
        "    bby1 = np.clip(cy - cut_h // 2, 0, H)\n",
        "    bbx2 = np.clip(cx + cut_w // 2, 0, W)\n",
        "    bby2 = np.clip(cy + cut_h // 2, 0, H)\n",
        "\n",
        "    return bbx1, bby1, bbx2, bby2\n",
        "\n",
        "def cutmix_data(x, y, alpha=1.0):\n",
        "    '''Applies CutMix to the batch.'''\n",
        "    if alpha > 0.:\n",
        "        lam = np.random.beta(alpha, alpha)\n",
        "    else:\n",
        "        lam = 1.\n",
        "\n",
        "    batch_size = x.size()[0]\n",
        "    index = torch.randperm(batch_size).to(x.device)\n",
        "\n",
        "    bbx1, bby1, bbx2, bby2 = rand_bbox(x.size(), lam)\n",
        "    x[:, :, bbx1:bbx2, bby1:bby2] = x[index, :, bbx1:bbx2, bby1:bby2]\n",
        "\n",
        "    # Adjust lambda to exactly match pixel ratio\n",
        "    lam = 1 - ((bbx2 - bbx1) * (bby2 - bby1) / (x.size(-1) * x.size(-2)))\n",
        "    return x, y, y[index], lam\n",
        "\n",
        "def mixup_data(x, y, alpha=1.0):\n",
        "    '''Applies MixUp to the batch.'''\n",
        "    if alpha > 0.:\n",
        "        lam = np.random.beta(alpha, alpha)\n",
        "    else:\n",
        "        lam = 1.\n",
        "\n",
        "    batch_size = x.size()[0]\n",
        "    index = torch.randperm(batch_size).to(x.device)\n",
        "\n",
        "    mixed_x = lam * x + (1 - lam) * x[index, :]\n",
        "    y_a, y_b = y, y[index]\n",
        "    return mixed_x, y_a, y_b, lam\n",
        "\n",
        "# ----------------------------\n",
        "# Label Smoothing Cross Entropy Loss\n",
        "# ----------------------------\n",
        "class LabelSmoothingCrossEntropy(nn.Module):\n",
        "    def __init__(self, smoothing=0.1):\n",
        "        super(LabelSmoothingCrossEntropy, self).__init__()\n",
        "        self.smoothing = smoothing\n",
        "        self.confidence = 1.0 - smoothing\n",
        "\n",
        "    def forward(self, x, target):\n",
        "        log_probs = F.log_softmax(x, dim=-1)\n",
        "        true_dist = torch.zeros_like(log_probs)\n",
        "        true_dist.fill_(self.smoothing / (x.size(1) -1))\n",
        "        true_dist.scatter_(1, target.data.unsqueeze(1), self.confidence)\n",
        "        return torch.mean(torch.sum(-true_dist * log_probs, dim=-1))\n",
        "\n",
        "# ----------------------------\n",
        "# Evaluation Function\n",
        "# ----------------------------\n",
        "def evaluate_model(model, dataloader, device, scaler=None):\n",
        "    \"\"\"\n",
        "    Evaluates the model on the given dataloader.\n",
        "    Returns accuracy, confusion matrix, and average loss.\n",
        "    \"\"\"\n",
        "    model.eval()\n",
        "    all_preds = []\n",
        "    all_labels = []\n",
        "    all_losses = []\n",
        "    criterion = nn.CrossEntropyLoss()\n",
        "    with torch.no_grad():\n",
        "        for inputs, labels in dataloader:\n",
        "            inputs = inputs.to(device)\n",
        "            labels = labels.to(device)\n",
        "            if scaler:\n",
        "                with autocast():\n",
        "                    outputs = model(inputs)\n",
        "                    loss = criterion(outputs, labels)\n",
        "            else:\n",
        "                outputs = model(inputs)\n",
        "                loss = criterion(outputs, labels)\n",
        "            _, preds = torch.max(outputs, 1)\n",
        "            all_preds.extend(preds.cpu().numpy())\n",
        "            all_labels.extend(labels.cpu().numpy())\n",
        "            all_losses.append(loss.item() * inputs.size(0))\n",
        "    acc = accuracy_score(all_labels, all_preds) * 100\n",
        "    cm = confusion_matrix(all_labels, all_preds)\n",
        "    avg_loss = sum(all_losses) / len(dataloader.dataset)\n",
        "    return acc, cm, avg_loss\n",
        "\n",
        "# ----------------------------\n",
        "# Visualization Functions\n",
        "# ----------------------------\n",
        "def plot_metrics(train_losses, val_accuracies, val_losses, train_accuracies):\n",
        "    \"\"\"\n",
        "    Plots training and validation loss and accuracy over epochs.\n",
        "    \"\"\"\n",
        "    epochs = range(1, len(train_losses)+1)\n",
        "\n",
        "    plt.figure(figsize=(14,5))\n",
        "\n",
        "    # Plot Loss\n",
        "    plt.subplot(1,2,1)\n",
        "    plt.plot(epochs, train_losses, 'b-', label='Training Loss')\n",
        "    plt.plot(epochs, val_losses, 'r-', label='Validation Loss')\n",
        "    plt.title('Training and Validation Loss')\n",
        "    plt.xlabel('Epoch')\n",
        "    plt.ylabel('Loss')\n",
        "    plt.legend()\n",
        "\n",
        "    # Plot Accuracy\n",
        "    plt.subplot(1,2,2)\n",
        "    plt.plot(epochs, train_accuracies, 'b-', label='Training Accuracy')\n",
        "    plt.plot(epochs, val_accuracies, 'r-', label='Validation Accuracy')\n",
        "    plt.title('Training and Validation Accuracy')\n",
        "    plt.xlabel('Epoch')\n",
        "    plt.ylabel('Accuracy (%)')\n",
        "    plt.legend()\n",
        "\n",
        "    plt.show()\n",
        "\n",
        "def plot_confusion_matrix(cm, classes):\n",
        "    \"\"\"\n",
        "    Plots the confusion matrix.\n",
        "    \"\"\"\n",
        "    plt.figure(figsize=(10,8))\n",
        "    sns.heatmap(cm, annot=True, fmt='d', cmap='Blues',\n",
        "                xticklabels=classes, yticklabels=classes)\n",
        "    plt.ylabel('Actual')\n",
        "    plt.xlabel('Predicted')\n",
        "    plt.title('Confusion Matrix')\n",
        "    plt.show()\n",
        "\n",
        "# ----------------------------\n",
        "# Main Training and Evaluation Pipeline\n",
        "# ----------------------------\n",
        "def main():\n",
        "    # ----------------------------\n",
        "    # Device Configuration\n",
        "    # ----------------------------\n",
        "    device = torch.device(\"cuda\" if torch.cuda.is_available() else \"cpu\")\n",
        "    print(f\"Using device: {device}\")\n",
        "\n",
        "    # ----------------------------\n",
        "    # Hyperparameters\n",
        "    # ----------------------------\n",
        "    num_epochs = 200  # Increased epochs for better convergence\n",
        "    batch_size = 128\n",
        "    learning_rate = 0.1  # Adjusted for SGD\n",
        "    num_classes = 10  # For CIFAR-10\n",
        "    patience = 30  # For early stopping\n",
        "    alpha = 1.0  # Mixup and CutMix alpha\n",
        "    smoothing = 0.1  # Label smoothing\n",
        "    momentum = 0.9\n",
        "    weight_decay = 5e-4  # Adjusted for SGD\n",
        "\n",
        "    # ----------------------------\n",
        "    # Data Transformations with Advanced Augmentation\n",
        "    # ----------------------------\n",
        "    transform_train = transforms.Compose([\n",
        "        transforms.RandomCrop(32, padding=4),\n",
        "        transforms.RandomHorizontalFlip(),\n",
        "        transforms.RandomRotation(15),\n",
        "        transforms.ColorJitter(brightness=0.2, contrast=0.2, saturation=0.2, hue=0.1),\n",
        "        transforms.ToTensor(),\n",
        "        transforms.Normalize((0.4914, 0.4822, 0.4465),\n",
        "                             (0.2023, 0.1994, 0.2010)),\n",
        "        transforms.RandomErasing(p=0.1, scale=(0.02, 0.33), ratio=(0.3, 3.3), value='random')\n",
        "    ])\n",
        "\n",
        "    transform_test = transforms.Compose([\n",
        "        transforms.ToTensor(),\n",
        "        transforms.Normalize((0.4914, 0.4822, 0.4465),\n",
        "                             (0.2023, 0.1994, 0.2010)),\n",
        "    ])\n",
        "\n",
        "    # ----------------------------\n",
        "    # Load Datasets\n",
        "    # ----------------------------\n",
        "    trainset = torchvision.datasets.CIFAR10(root='./data', train=True,\n",
        "                                            download=True, transform=transform_train)\n",
        "    trainloader = torch.utils.data.DataLoader(trainset, batch_size=batch_size,\n",
        "                                              shuffle=True, num_workers=2)\n",
        "\n",
        "    testset = torchvision.datasets.CIFAR10(root='./data', train=False,\n",
        "                                           download=True, transform=transform_test)\n",
        "    testloader = torch.utils.data.DataLoader(testset, batch_size=100,\n",
        "                                             shuffle=False, num_workers=2)\n",
        "\n",
        "    # ----------------------------\n",
        "    # Initialize Model, Loss, Optimizer, Scheduler\n",
        "    # ----------------------------\n",
        "    model = DynamicHolisticPerceptionNetwork(num_classes=num_classes).to(device)\n",
        "    print(\"Model initialized.\")\n",
        "    print(model)\n",
        "\n",
        "    criterion = LabelSmoothingCrossEntropy(smoothing=smoothing)\n",
        "    optimizer = optim.SGD(model.parameters(), lr=learning_rate, momentum=momentum, weight_decay=weight_decay)\n",
        "    scheduler = OneCycleLR(optimizer, max_lr=learning_rate, steps_per_epoch=len(trainloader),\n",
        "                           epochs=num_epochs, anneal_strategy='cos')\n",
        "\n",
        "    # ----------------------------\n",
        "    # Initialize Tracking Variables\n",
        "    # ----------------------------\n",
        "    best_val_acc = 0.0\n",
        "    trigger_times = 0\n",
        "    train_losses = []\n",
        "    val_losses = []\n",
        "    train_accuracies = []\n",
        "    val_accuracies = []\n",
        "\n",
        "    # ----------------------------\n",
        "    # Class Names for CIFAR-10\n",
        "    # ----------------------------\n",
        "    classes = ['Airplane','Automobile','Bird','Cat','Deer',\n",
        "               'Dog','Frog','Horse','Ship','Truck']\n",
        "\n",
        "    # ----------------------------\n",
        "    # Delete existing best_model.pth to avoid loading incompatible weights\n",
        "    # ----------------------------\n",
        "    if os.path.exists('best_model.pth'):\n",
        "        os.remove('best_model.pth')\n",
        "        print(\"Existing 'best_model.pth' removed.\")\n",
        "\n",
        "    # ----------------------------\n",
        "    # Initialize GradScaler for Mixed Precision\n",
        "    # ----------------------------\n",
        "    scaler = GradScaler()\n",
        "\n",
        "    # ----------------------------\n",
        "    # Training Loop with Mixup, CutMix, Label Smoothing, Gradient Clipping, and Early Stopping\n",
        "    # ----------------------------\n",
        "    for epoch in range(num_epochs):\n",
        "        model.train()\n",
        "        running_loss = 0.0\n",
        "        correct = 0\n",
        "        total = 0\n",
        "        start_time = time.time()\n",
        "\n",
        "        for inputs, labels in trainloader:\n",
        "            inputs, labels = inputs.to(device), labels.to(device)\n",
        "\n",
        "            # Apply CutMix with probability 0.5\n",
        "            r = np.random.rand()\n",
        "            if r < 0.5:\n",
        "                inputs, targets_a, targets_b, lam = cutmix_data(inputs, labels, alpha=alpha)\n",
        "                with autocast():\n",
        "                    outputs = model(inputs)\n",
        "                    loss = lam * criterion(outputs, targets_a) + (1 - lam) * criterion(outputs, targets_b)\n",
        "            else:\n",
        "                # Apply MixUp\n",
        "                inputs, targets_a, targets_b, lam = mixup_data(inputs, labels, alpha=alpha)\n",
        "                with autocast():\n",
        "                    outputs = model(inputs)\n",
        "                    loss = lam * criterion(outputs, targets_a) + (1 - lam) * criterion(outputs, targets_b)\n",
        "\n",
        "            # Zero the parameter gradients\n",
        "            optimizer.zero_grad()\n",
        "\n",
        "            # Backward pass and optimization with mixed precision\n",
        "            scaler.scale(loss).backward()\n",
        "            # Gradient Clipping\n",
        "            scaler.unscale_(optimizer)\n",
        "            torch.nn.utils.clip_grad_norm_(model.parameters(), max_norm=5.0)\n",
        "            scaler.step(optimizer)\n",
        "            scaler.update()\n",
        "            scheduler.step()  # Updated: Removed epoch parameter\n",
        "\n",
        "            # Statistics\n",
        "            running_loss += loss.item() * inputs.size(0)\n",
        "            _, predicted = outputs.max(1)\n",
        "            total += labels.size(0)\n",
        "            # For accuracy, take the prediction and compare to targets_a and targets_b\n",
        "            correct += (lam * predicted.eq(targets_a).sum().item() + (1 - lam) * predicted.eq(targets_b).sum().item())\n",
        "\n",
        "        epoch_loss = running_loss / total\n",
        "        epoch_acc = 100. * correct / total\n",
        "        train_losses.append(epoch_loss)\n",
        "        train_accuracies.append(epoch_acc)\n",
        "        elapsed_time = time.time() - start_time\n",
        "\n",
        "        # Validation\n",
        "        val_acc, val_cm, val_loss = evaluate_model(model, testloader, device)\n",
        "        val_losses.append(val_loss)\n",
        "        val_accuracies.append(val_acc)\n",
        "\n",
        "        print(f\"Epoch [{epoch+1}/{num_epochs}] - \"\n",
        "              f\"Loss: {epoch_loss:.4f} - \"\n",
        "              f\"Train Acc: {epoch_acc:.2f}% - \"\n",
        "              f\"Val Acc: {val_acc:.2f}% - \"\n",
        "              f\"Val Loss: {val_loss:.4f} - \"\n",
        "              f\"Time: {elapsed_time:.2f}s\")\n",
        "\n",
        "        # Save periodic checkpoints every 10 epochs\n",
        "        if (epoch + 1) % 10 == 0:\n",
        "            checkpoint_path = f'checkpoint_epoch_{epoch+1}.pth'\n",
        "            torch.save({\n",
        "                'epoch': epoch +1,\n",
        "                'model_state_dict': model.state_dict(),\n",
        "                'optimizer_state_dict': optimizer.state_dict(),\n",
        "                'scheduler_state_dict': scheduler.state_dict(),\n",
        "                'loss': loss.item(),\n",
        "            }, checkpoint_path)\n",
        "            print(f\"Checkpoint saved at Epoch {epoch+1}\")\n",
        "\n",
        "        # Early Stopping and Saving Best Model\n",
        "        if val_acc > best_val_acc:\n",
        "            best_val_acc = val_acc\n",
        "            trigger_times = 0\n",
        "            torch.save(model.state_dict(), 'best_model.pth')\n",
        "            print(f\"Best model saved with Val Acc: {best_val_acc:.2f}%\")\n",
        "        else:\n",
        "            trigger_times += 1\n",
        "            if trigger_times >= patience:\n",
        "                print(\"Early stopping triggered!\")\n",
        "                break\n",
        "\n",
        "    # ----------------------------\n",
        "    # Final Evaluation\n",
        "    # ----------------------------\n",
        "    print(\"\\nTraining Completed!\")\n",
        "    print(f\"Best Validation Accuracy: {best_val_acc:.2f}%\")\n",
        "\n",
        "    # Load the best model\n",
        "    if os.path.exists('best_model.pth'):\n",
        "        try:\n",
        "            state_dict = torch.load('best_model.pth', map_location=device)\n",
        "            model.load_state_dict(state_dict)\n",
        "            print(\"Best model loaded successfully.\")\n",
        "        except Exception as e:\n",
        "            print(f\"Error loading best_model.pth: {e}\")\n",
        "            print(\"Please ensure that the model architecture matches exactly when saving and loading.\")\n",
        "    else:\n",
        "        print(\"No best model found to load.\")\n",
        "\n",
        "    # Final evaluation\n",
        "    final_acc, final_cm, final_loss = evaluate_model(model, testloader, device)\n",
        "    print(f\"\\nFinal Test Accuracy: {final_acc:.2f}%\")\n",
        "\n",
        "    # Plot Confusion Matrix\n",
        "    plot_confusion_matrix(final_cm, classes)\n",
        "\n",
        "    # Plot Training and Validation Metrics\n",
        "    plot_metrics(train_losses, val_accuracies, val_losses, train_accuracies)\n",
        "\n",
        "    # ----------------------------\n",
        "    # Generate Classification Report\n",
        "    # ----------------------------\n",
        "    model.eval()\n",
        "    all_preds = []\n",
        "    all_labels = []\n",
        "    with torch.no_grad():\n",
        "        for inputs, labels in testloader:\n",
        "            inputs = inputs.to(device)\n",
        "            labels = labels.to(device)\n",
        "            with autocast():\n",
        "                outputs = model(inputs)\n",
        "                _, preds = torch.max(outputs, 1)\n",
        "                all_preds.extend(preds.cpu().numpy())\n",
        "                all_labels.extend(labels.cpu().numpy())\n",
        "\n",
        "    print(\"\\nClassification Report:\")\n",
        "    print(classification_report(all_labels, all_preds, target_names=classes))\n",
        "\n",
        "if __name__ == '__main__':\n",
        "    main()\n"
      ]
    }
  ]
}